{
 "cells": [
  {
   "cell_type": "code",
   "execution_count": 21,
   "id": "extreme-congress",
   "metadata": {},
   "outputs": [],
   "source": [
    "import collections\n",
    "from d2l import torch as d2l\n",
    "import re\n",
    "from collections import Counter"
   ]
  },
  {
   "cell_type": "code",
   "execution_count": 2,
   "id": "patent-processor",
   "metadata": {},
   "outputs": [
    {
     "name": "stdout",
     "output_type": "stream",
     "text": [
      "# text lines: 3221\n",
      "the time machine by h g wells\n",
      "twinkled and his usually pale face was flushed and animated the\n"
     ]
    }
   ],
   "source": [
    "#@save\n",
    "d2l.DATA_HUB['time_machine'] = (d2l.DATA_URL + 'timemachine.txt',\n",
    "                                '090b5e7e70c295757f55df93cb0a180b9691891a')\n",
    "\n",
    "def read_time_machine():  #@save\n",
    "    \"\"\"Load the time machine dataset into a list of text lines.\"\"\"\n",
    "    with open(d2l.download('time_machine'), 'r') as f:\n",
    "        lines = f.readlines()\n",
    "    return [re.sub('[^A-Za-z]+', ' ', line).strip().lower() for line in lines]\n",
    "\n",
    "lines = read_time_machine()\n",
    "print(f'# text lines: {len(lines)}')\n",
    "print(lines[0])\n",
    "print(lines[10])"
   ]
  },
  {
   "cell_type": "code",
   "execution_count": 17,
   "id": "cultural-palestine",
   "metadata": {},
   "outputs": [
    {
     "data": {
      "text/plain": [
       "3221"
      ]
     },
     "execution_count": 17,
     "metadata": {},
     "output_type": "execute_result"
    }
   ],
   "source": [
    "def tokenize(lines, token='word'):\n",
    "    if (token == 'word'):\n",
    "        return [line.split(\" \") for line in lines]\n",
    "    elif (token == 'char'):\n",
    "        return [[char for char in line] for line in lines]\n",
    "tokens = tokenize(lines)\n",
    "len(tokens)"
   ]
  },
  {
   "cell_type": "code",
   "execution_count": 107,
   "id": "alternate-overall",
   "metadata": {},
   "outputs": [
    {
     "data": {
      "text/plain": [
       "['the', 'time', 'machine', 'by', 'h', 'g', 'wells']"
      ]
     },
     "execution_count": 107,
     "metadata": {},
     "output_type": "execute_result"
    }
   ],
   "source": [
    "tokens[0]"
   ]
  },
  {
   "cell_type": "code",
   "execution_count": 139,
   "id": "sustained-national",
   "metadata": {},
   "outputs": [
    {
     "data": {
      "text/plain": [
       "(['the', 'time', 'machine', 'by', 'h', 'g', 'wells'],\n",
       " [1, 20, 51, 41, 2184, 2185, 401])"
      ]
     },
     "execution_count": 139,
     "metadata": {},
     "output_type": "execute_result"
    }
   ],
   "source": [
    "class Vocab():\n",
    "    def __init__(self, tokens, min_freq=0):\n",
    "        self.tokens = tokens\n",
    "        self.min_freq = min_freq\n",
    "        self.token_freq = Counter([token for line in tokens for token in line])\n",
    "#         self.token_to_idx =  {w[0]: i + 1 for i, w in enumerate(self.token_freq.most_common())}\n",
    "        self.token_to_idx = dict({\"<unk>\": 0})\n",
    "        for i, w in enumerate(self.token_freq.most_common()):\n",
    "            if (w[1] > min_freq):\n",
    "                self.token_to_idx[w[0]] = i + 1\n",
    "        \n",
    "        self.idx_to_token = list(self.token_to_idx.keys())\n",
    "        \n",
    "#         self.token_to_idx\n",
    "    def __len__(self):\n",
    "        return len(self.idx_to_token)\n",
    "    def __getitem__(self, keys):\n",
    "        return [self.token_to_idx[key] if key in self.token_to_idx else 0 for key in keys]\n",
    "    def to_tokens(self, indices):\n",
    "        return [self.idx_to_token[idx] for idx in indices]\n",
    "# list(zip(list(Vocab(tokens).token_freq.keys()), range(len(list(Vocab(tokens).token_freq.keys())))))\n",
    "Vocab(tokens).to_tokens([1, 20, 51, 41, 2184, 2185, 401]), Vocab(tokens)[tokens[0]]"
   ]
  },
  {
   "cell_type": "code",
   "execution_count": 140,
   "id": "fewer-static",
   "metadata": {},
   "outputs": [
    {
     "data": {
      "text/plain": [
       "(170580, 28)"
      ]
     },
     "execution_count": 140,
     "metadata": {},
     "output_type": "execute_result"
    }
   ],
   "source": [
    "def load_corpus_time_machine(max_tokens=-1):\n",
    "    lines = read_time_machine()\n",
    "    tokens = tokenize(lines, 'char')\n",
    "    vocab = Vocab(tokens)\n",
    "    # Since each text line in the time machine dataset is not necessarily a\n",
    "    # sentence or a paragraph, flatten all the text lines into a single list\n",
    "    corpus = [vocab[token] for line in tokens for token in line]\n",
    "    if max_tokens > 0:\n",
    "        corpus = corpus[:max_tokens]\n",
    "    return corpus, vocab\n",
    "\n",
    "corpus, vocab = load_corpus_time_machine()\n",
    "len(corpus), len(vocab)"
   ]
  }
 ],
 "metadata": {
  "kernelspec": {
   "display_name": "Python 3",
   "language": "python",
   "name": "python3"
  },
  "language_info": {
   "codemirror_mode": {
    "name": "ipython",
    "version": 3
   },
   "file_extension": ".py",
   "mimetype": "text/x-python",
   "name": "python",
   "nbconvert_exporter": "python",
   "pygments_lexer": "ipython3",
   "version": "3.8.8"
  }
 },
 "nbformat": 4,
 "nbformat_minor": 5
}
