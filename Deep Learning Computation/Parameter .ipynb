{
 "cells": [
  {
   "cell_type": "code",
   "execution_count": 1,
   "metadata": {},
   "outputs": [],
   "source": [
    "import torch\n",
    "import torch.nn as nn"
   ]
  },
  {
   "cell_type": "code",
   "execution_count": 2,
   "metadata": {},
   "outputs": [
    {
     "data": {
      "text/plain": [
       "tensor([[0.0361],\n",
       "        [0.0292]], grad_fn=<AddmmBackward>)"
      ]
     },
     "execution_count": 2,
     "metadata": {},
     "output_type": "execute_result"
    }
   ],
   "source": [
    "net = nn.Sequential(nn.Linear(4, 8), nn.ReLU(), nn.Linear(8, 1))\n",
    "X = torch.rand(size=(2, 4))\n",
    "net(X)"
   ]
  },
  {
   "cell_type": "code",
   "execution_count": 3,
   "metadata": {},
   "outputs": [
    {
     "data": {
      "text/plain": [
       "OrderedDict([('weight',\n",
       "              tensor([[ 0.1857, -0.0757, -0.1531, -0.2865, -0.3501, -0.1025,  0.1997,  0.3516]])),\n",
       "             ('bias', tensor([-0.0145]))])"
      ]
     },
     "execution_count": 3,
     "metadata": {},
     "output_type": "execute_result"
    }
   ],
   "source": [
    "net[2].state_dict()"
   ]
  },
  {
   "cell_type": "code",
   "execution_count": 5,
   "metadata": {},
   "outputs": [
    {
     "data": {
      "text/plain": [
       "OrderedDict([('weight',\n",
       "              tensor([[ 0.2901, -0.2606,  0.4850, -0.1477],\n",
       "                      [-0.2328, -0.1921,  0.1630, -0.1146],\n",
       "                      [-0.0381,  0.1395,  0.2300,  0.1365],\n",
       "                      [ 0.4929, -0.2967, -0.2600,  0.3102],\n",
       "                      [ 0.4331,  0.3494, -0.0419,  0.1940],\n",
       "                      [-0.1983,  0.3970, -0.2116, -0.4477],\n",
       "                      [-0.2450, -0.3881, -0.2604, -0.1739],\n",
       "                      [-0.1197,  0.4936,  0.2643, -0.0748]])),\n",
       "             ('bias',\n",
       "              tensor([ 0.2267,  0.2286, -0.3402, -0.2923, -0.4393,  0.1260, -0.4783, -0.3480]))])"
      ]
     },
     "execution_count": 5,
     "metadata": {},
     "output_type": "execute_result"
    }
   ],
   "source": [
    "net[0].state_dict()"
   ]
  },
  {
   "cell_type": "code",
   "execution_count": 7,
   "metadata": {},
   "outputs": [
    {
     "data": {
      "text/plain": [
       "tensor([-0.0145])"
      ]
     },
     "execution_count": 7,
     "metadata": {},
     "output_type": "execute_result"
    }
   ],
   "source": [
    "net[2].bias.data"
   ]
  },
  {
   "cell_type": "code",
   "execution_count": 11,
   "metadata": {},
   "outputs": [
    {
     "data": {
      "text/plain": [
       "True"
      ]
     },
     "execution_count": 11,
     "metadata": {},
     "output_type": "execute_result"
    }
   ],
   "source": [
    "net[2].weight.grad == None"
   ]
  },
  {
   "cell_type": "code",
   "execution_count": 12,
   "metadata": {},
   "outputs": [
    {
     "data": {
      "text/plain": [
       "[('0.weight', torch.Size([8, 4])),\n",
       " ('0.bias', torch.Size([8])),\n",
       " ('2.weight', torch.Size([1, 8])),\n",
       " ('2.bias', torch.Size([1]))]"
      ]
     },
     "execution_count": 12,
     "metadata": {},
     "output_type": "execute_result"
    }
   ],
   "source": [
    "[(name, param.shape) for name, param in net.named_parameters()]"
   ]
  },
  {
   "cell_type": "code",
   "execution_count": 17,
   "metadata": {},
   "outputs": [
    {
     "data": {
      "text/plain": [
       "OrderedDict([('0.weight',\n",
       "              tensor([[ 0.2901, -0.2606,  0.4850, -0.1477],\n",
       "                      [-0.2328, -0.1921,  0.1630, -0.1146],\n",
       "                      [-0.0381,  0.1395,  0.2300,  0.1365],\n",
       "                      [ 0.4929, -0.2967, -0.2600,  0.3102],\n",
       "                      [ 0.4331,  0.3494, -0.0419,  0.1940],\n",
       "                      [-0.1983,  0.3970, -0.2116, -0.4477],\n",
       "                      [-0.2450, -0.3881, -0.2604, -0.1739],\n",
       "                      [-0.1197,  0.4936,  0.2643, -0.0748]])),\n",
       "             ('0.bias',\n",
       "              tensor([ 0.2267,  0.2286, -0.3402, -0.2923, -0.4393,  0.1260, -0.4783, -0.3480])),\n",
       "             ('2.weight',\n",
       "              tensor([[ 0.1857, -0.0757, -0.1531, -0.2865, -0.3501, -0.1025,  0.1997,  0.3516]])),\n",
       "             ('2.bias', tensor([-0.0145]))])"
      ]
     },
     "execution_count": 17,
     "metadata": {},
     "output_type": "execute_result"
    }
   ],
   "source": [
    "net.state_dict()"
   ]
  },
  {
   "cell_type": "code",
   "execution_count": 26,
   "metadata": {},
   "outputs": [
    {
     "data": {
      "text/plain": [
       "Sequential(\n",
       "  (0): Linear(in_features=4, out_features=8, bias=True)\n",
       "  (1): ReLU()\n",
       "  (2): Linear(in_features=8, out_features=2, bias=True)\n",
       ")"
      ]
     },
     "execution_count": 26,
     "metadata": {},
     "output_type": "execute_result"
    }
   ],
   "source": [
    "def init_normal(m):\n",
    "    if type(m) == nn.Linear:\n",
    "        nn.init.normal_(m.weight, mean=0, std=0.01)\n",
    "        nn.init.zeros_(m.bias)\n",
    "\n",
    "net = nn.Sequential(nn.Linear(4, 8), nn.ReLU(), nn.Linear(8, 2))\n",
    "net.apply(init_normal)"
   ]
  },
  {
   "cell_type": "code",
   "execution_count": 27,
   "metadata": {},
   "outputs": [
    {
     "data": {
      "text/plain": [
       "OrderedDict([('0.weight',\n",
       "              tensor([[-0.0026,  0.0110, -0.0062,  0.0009],\n",
       "                      [ 0.0033,  0.0094,  0.0045,  0.0001],\n",
       "                      [-0.0008, -0.0104, -0.0125,  0.0002],\n",
       "                      [ 0.0118, -0.0145,  0.0041,  0.0035],\n",
       "                      [ 0.0064, -0.0013, -0.0065, -0.0061],\n",
       "                      [-0.0140,  0.0231, -0.0037,  0.0081],\n",
       "                      [ 0.0004,  0.0038,  0.0092, -0.0028],\n",
       "                      [-0.0192, -0.0010,  0.0065, -0.0023]])),\n",
       "             ('0.bias', tensor([0., 0., 0., 0., 0., 0., 0., 0.])),\n",
       "             ('2.weight',\n",
       "              tensor([[ 0.0060,  0.0019, -0.0040,  0.0039,  0.0061,  0.0004,  0.0011,  0.0069],\n",
       "                      [ 0.0150, -0.0031,  0.0206,  0.0118, -0.0058, -0.0021, -0.0091,  0.0030]])),\n",
       "             ('2.bias', tensor([0., 0.]))])"
      ]
     },
     "execution_count": 27,
     "metadata": {},
     "output_type": "execute_result"
    }
   ],
   "source": [
    "net.state_dict()"
   ]
  },
  {
   "cell_type": "code",
   "execution_count": 31,
   "metadata": {},
   "outputs": [
    {
     "data": {
      "text/plain": [
       "Sequential(\n",
       "  (0): Linear(in_features=4, out_features=8, bias=True)\n",
       "  (1): ReLU()\n",
       "  (2): Linear(in_features=8, out_features=2, bias=True)\n",
       ")"
      ]
     },
     "execution_count": 31,
     "metadata": {},
     "output_type": "execute_result"
    }
   ],
   "source": [
    "def init_constant(m):\n",
    "    if type(m) == nn.Linear:\n",
    "        nn.init.constant_(m.weight, 1)\n",
    "        nn.init.zeros_(m.bias)\n",
    "net = nn.Sequential(nn.Linear(4, 8), nn.ReLU(), nn.Linear(8, 2))\n",
    "net.apply(init_constant)     "
   ]
  },
  {
   "cell_type": "code",
   "execution_count": 32,
   "metadata": {},
   "outputs": [
    {
     "data": {
      "text/plain": [
       "OrderedDict([('0.weight',\n",
       "              tensor([[1., 1., 1., 1.],\n",
       "                      [1., 1., 1., 1.],\n",
       "                      [1., 1., 1., 1.],\n",
       "                      [1., 1., 1., 1.],\n",
       "                      [1., 1., 1., 1.],\n",
       "                      [1., 1., 1., 1.],\n",
       "                      [1., 1., 1., 1.],\n",
       "                      [1., 1., 1., 1.]])),\n",
       "             ('0.bias', tensor([0., 0., 0., 0., 0., 0., 0., 0.])),\n",
       "             ('2.weight',\n",
       "              tensor([[1., 1., 1., 1., 1., 1., 1., 1.],\n",
       "                      [1., 1., 1., 1., 1., 1., 1., 1.]])),\n",
       "             ('2.bias', tensor([0., 0.]))])"
      ]
     },
     "execution_count": 32,
     "metadata": {},
     "output_type": "execute_result"
    }
   ],
   "source": [
    "net.state_dict()"
   ]
  },
  {
   "cell_type": "code",
   "execution_count": 33,
   "metadata": {},
   "outputs": [
    {
     "data": {
      "text/plain": [
       "Linear(in_features=8, out_features=2, bias=True)"
      ]
     },
     "execution_count": 33,
     "metadata": {},
     "output_type": "execute_result"
    }
   ],
   "source": [
    "def xavior(m):\n",
    "    if type(m) == nn.Linear:\n",
    "        nn.init.xavier_uniform_(m.weight)\n",
    "        \n",
    "net[0].apply(xavior)\n",
    "net[2].apply(init_constant)"
   ]
  },
  {
   "cell_type": "code",
   "execution_count": 34,
   "metadata": {},
   "outputs": [
    {
     "data": {
      "text/plain": [
       "OrderedDict([('0.weight',\n",
       "              tensor([[ 0.6658,  0.0008, -0.1367,  0.3593],\n",
       "                      [ 0.0882,  0.2098,  0.4736, -0.6813],\n",
       "                      [-0.4519, -0.3348, -0.6562, -0.0252],\n",
       "                      [ 0.2563,  0.5157,  0.1477, -0.5922],\n",
       "                      [ 0.4333, -0.5923, -0.6029, -0.2108],\n",
       "                      [-0.3912, -0.6810, -0.0799,  0.5464],\n",
       "                      [ 0.5599,  0.0175, -0.0358,  0.2486],\n",
       "                      [ 0.5628, -0.6520,  0.3760,  0.5864]])),\n",
       "             ('0.bias', tensor([0., 0., 0., 0., 0., 0., 0., 0.])),\n",
       "             ('2.weight',\n",
       "              tensor([[1., 1., 1., 1., 1., 1., 1., 1.],\n",
       "                      [1., 1., 1., 1., 1., 1., 1., 1.]])),\n",
       "             ('2.bias', tensor([0., 0.]))])"
      ]
     },
     "execution_count": 34,
     "metadata": {},
     "output_type": "execute_result"
    }
   ],
   "source": [
    "net.state_dict()"
   ]
  },
  {
   "cell_type": "code",
   "execution_count": 44,
   "metadata": {},
   "outputs": [
    {
     "name": "stdout",
     "output_type": "stream",
     "text": [
      "Init  weight torch.Size([8, 4])\n",
      "Init  weight torch.Size([2, 8])\n"
     ]
    },
    {
     "data": {
      "text/plain": [
       "Sequential(\n",
       "  (0): Linear(in_features=4, out_features=8, bias=True)\n",
       "  (1): ReLU()\n",
       "  (2): Linear(in_features=8, out_features=2, bias=True)\n",
       ")"
      ]
     },
     "execution_count": 44,
     "metadata": {},
     "output_type": "execute_result"
    }
   ],
   "source": [
    "def my_init(m):\n",
    "    if type(m) == nn.Linear:\n",
    "        print('Init ', *[(name, param.shape) for name, param in m.named_parameters()][0])\n",
    "        nn.init.uniform_(m.weight, -10, 10)\n",
    "        m.weight.data *= m.weight.data.abs() >= 5\n",
    "        \n",
    "net.apply(my_init)"
   ]
  },
  {
   "cell_type": "code",
   "execution_count": 40,
   "metadata": {},
   "outputs": [
    {
     "data": {
      "text/plain": [
       "OrderedDict([('0.weight',\n",
       "              tensor([[ 0.0000,  9.6739, -0.0000,  0.0000],\n",
       "                      [-9.7339, -0.0000, -0.0000, -5.7298],\n",
       "                      [ 7.2538, -0.0000,  9.6311,  0.0000],\n",
       "                      [ 9.6488, -7.9599,  7.3452, -8.9995],\n",
       "                      [ 9.4969, -0.0000, -9.3159, -0.0000],\n",
       "                      [ 0.0000, -0.0000, -0.0000, -0.0000],\n",
       "                      [-0.0000,  0.0000,  9.0828, -5.4764],\n",
       "                      [-0.0000,  6.4324,  9.2892,  0.0000]])),\n",
       "             ('0.bias', tensor([0., 0., 0., 0., 0., 0., 0., 0.])),\n",
       "             ('2.weight',\n",
       "              tensor([[ 6.0596,  6.2055,  5.0768,  6.1540,  6.1925,  8.2721, -9.0119,  6.2420],\n",
       "                      [ 8.8428, -0.0000, -5.5997, -0.0000,  0.0000, -0.0000,  0.0000, -0.0000]])),\n",
       "             ('2.bias', tensor([0., 0.]))])"
      ]
     },
     "execution_count": 40,
     "metadata": {},
     "output_type": "execute_result"
    }
   ],
   "source": [
    "net.state_dict()"
   ]
  }
 ],
 "metadata": {
  "kernelspec": {
   "display_name": "Python 3",
   "language": "python",
   "name": "python3"
  },
  "language_info": {
   "codemirror_mode": {
    "name": "ipython",
    "version": 3
   },
   "file_extension": ".py",
   "mimetype": "text/x-python",
   "name": "python",
   "nbconvert_exporter": "python",
   "pygments_lexer": "ipython3",
   "version": "3.8.8"
  }
 },
 "nbformat": 4,
 "nbformat_minor": 4
}
