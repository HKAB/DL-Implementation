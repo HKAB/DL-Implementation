{
 "cells": [
  {
   "cell_type": "code",
   "execution_count": 1,
   "metadata": {},
   "outputs": [],
   "source": [
    "from d2l import torch as d2l\n",
    "import torch\n",
    "from torch import nn"
   ]
  },
  {
   "cell_type": "code",
   "execution_count": 2,
   "metadata": {},
   "outputs": [],
   "source": [
    "hidden_dim, inp_dim, ouput_dim = 256, 784, 10\n",
    "W1 = nn.Parameter(torch.rand(inp_dim, hidden_dim, requires_grad=True)*0.01)\n",
    "b1 = nn.Parameter(torch.zeros(hidden_dim, requires_grad=True))\n",
    "W2 = nn.Parameter(torch.rand(hidden_dim, ouput_dim, requires_grad=True)*0.01)\n",
    "b2 = nn.Parameter(torch.zeros(ouput_dim, requires_grad=True))\n",
    "\n",
    "params = [W1, b1, W2, b2]"
   ]
  },
  {
   "cell_type": "code",
   "execution_count": 3,
   "metadata": {},
   "outputs": [
    {
     "data": {
      "text/plain": [
       "tensor([[0, 0, 5],\n",
       "        [1, 2, 0]])"
      ]
     },
     "execution_count": 3,
     "metadata": {},
     "output_type": "execute_result"
    }
   ],
   "source": [
    "def relu(x):\n",
    "    return x*(x > 0)\n",
    "relu(torch.tensor([[0, -1, 5], [1, 2, -2]]))"
   ]
  },
  {
   "cell_type": "code",
   "execution_count": 4,
   "metadata": {},
   "outputs": [
    {
     "data": {
      "text/plain": [
       "tensor([[0.3333, 0.3333, 0.3333],\n",
       "        [0.3333, 0.3333, 0.3333]])"
      ]
     },
     "execution_count": 4,
     "metadata": {},
     "output_type": "execute_result"
    }
   ],
   "source": [
    "def softmax(x):\n",
    "    return torch.exp(x)/torch.exp(x).sum(1, keepdim=True);\n",
    "softmax(torch.tensor([[0, 0, 0], [0, 0, 0]]))"
   ]
  },
  {
   "cell_type": "code",
   "execution_count": 5,
   "metadata": {},
   "outputs": [],
   "source": [
    "# net(torch.ones(5, 1, 28, 28))"
   ]
  },
  {
   "cell_type": "code",
   "execution_count": 6,
   "metadata": {},
   "outputs": [],
   "source": [
    "def net(X):\n",
    "    X = X.reshape((-1, inp_dim))\n",
    "    return relu(X@W1 + b1)@W2 + b2"
   ]
  },
  {
   "cell_type": "code",
   "execution_count": 7,
   "metadata": {},
   "outputs": [
    {
     "name": "stdout",
     "output_type": "stream",
     "text": [
      "tensor(1.5617)\n"
     ]
    }
   ],
   "source": [
    "def cross_entropy(y_hat, y):\n",
    "    max_ok = torch.max(y_hat, dim=1, keepdim=True).values\n",
    "    return -(y_hat[range(len(y_hat)), y] - max_ok.ravel() - torch.log(torch.exp(y_hat - max_ok).sum(dim=1))).mean()\n",
    "\n",
    "print(cross_entropy(torch.tensor([[0, 0, 0.7, 0.3], [0, 0, 1, 0]]), torch.tensor([3, 0])).mean())"
   ]
  },
  {
   "cell_type": "code",
   "execution_count": 8,
   "metadata": {},
   "outputs": [
    {
     "data": {
      "text/plain": [
       "tensor([[2],\n",
       "        [6]])"
      ]
     },
     "execution_count": 8,
     "metadata": {},
     "output_type": "execute_result"
    }
   ],
   "source": [
    "torch.max(torch.tensor([[0, 1, 2], [4, 5, 6]]), dim=1, keepdim=True).values"
   ]
  },
  {
   "cell_type": "code",
   "execution_count": 9,
   "metadata": {},
   "outputs": [
    {
     "name": "stderr",
     "output_type": "stream",
     "text": [
      "<ipython-input-9-e9e2268868d5>:3: UserWarning: To copy construct from a tensor, it is recommended to use sourceTensor.clone().detach() or sourceTensor.clone().detach().requires_grad_(True), rather than torch.tensor(sourceTensor).\n",
      "  accuracy = torch.tensor((y_true == y_pred), dtype=torch.float32)\n"
     ]
    },
    {
     "data": {
      "text/plain": [
       "tensor(0.3333)"
      ]
     },
     "execution_count": 9,
     "metadata": {},
     "output_type": "execute_result"
    }
   ],
   "source": [
    "def accuracy(y_pred, y_true):\n",
    "    y_pred = torch.argmax(y_pred, dim=1)\n",
    "    accuracy = torch.tensor((y_true == y_pred), dtype=torch.float32)\n",
    "    return accuracy.mean()\n",
    "accuracy(torch.tensor([[0, 1, 1], [1, 0, 0], [1, 0, 0]]), torch.tensor([1, 1, 1]))"
   ]
  },
  {
   "cell_type": "code",
   "execution_count": 10,
   "metadata": {},
   "outputs": [],
   "source": [
    "lr = 0.05\n",
    "batch_size = 256"
   ]
  },
  {
   "cell_type": "code",
   "execution_count": 11,
   "metadata": {},
   "outputs": [],
   "source": [
    "train_iter, test_iter = d2l.load_data_fashion_mnist(batch_size=batch_size)"
   ]
  },
  {
   "cell_type": "code",
   "execution_count": 12,
   "metadata": {},
   "outputs": [],
   "source": [
    "updater = torch.optim.SGD(params, lr=lr)"
   ]
  },
  {
   "cell_type": "code",
   "execution_count": 13,
   "metadata": {},
   "outputs": [],
   "source": [
    "def l2_penalty(params):\n",
    "    return sum(torch.pow(param, 2).sum() for param in params)\n",
    "# l2_penalty([[1, 2, 3], [1, 2, 3]])"
   ]
  },
  {
   "cell_type": "code",
   "execution_count": 14,
   "metadata": {},
   "outputs": [
    {
     "data": {
      "text/plain": [
       "tensor(6.7786, grad_fn=<AddBackward0>)"
      ]
     },
     "execution_count": 14,
     "metadata": {},
     "output_type": "execute_result"
    }
   ],
   "source": [
    "l2_penalty(params)"
   ]
  },
  {
   "cell_type": "code",
   "execution_count": 15,
   "metadata": {},
   "outputs": [],
   "source": [
    "def train_epoch(net, train_iter, loss, updater, lambda_loss):\n",
    "    with torch.autograd.set_detect_anomaly(True):\n",
    "        for i, (X, y) in enumerate(train_iter):\n",
    "    #         print(y.shape, X.shape)\n",
    "            one_hot_y = torch.zeros(y.shape[0], 10)\n",
    "            one_hot_y[torch.arange(y.shape[0]), y] = 1\n",
    "\n",
    "            y_pred = net(X)\n",
    "    #         if y_pred.isnan().sum():\n",
    "    #             print(f'{y_pred.isnan().sum()} nan')\n",
    "    #             print(X)\n",
    "    #             print(y)\n",
    "    #             print(params)\n",
    "    #             break\n",
    "            acc = accuracy(y_pred, y)\n",
    "            l = loss(y_pred, y) + lambda_loss*l2_penalty(params)\n",
    "\n",
    "            updater.zero_grad()\n",
    "            l.sum().backward()\n",
    "            updater.step()\n",
    "\n",
    "            if (i % 100 == 0):\n",
    "                print(f'Accuracy {acc:.2f}, Loss: {l.sum():.2f}')"
   ]
  },
  {
   "cell_type": "code",
   "execution_count": 16,
   "metadata": {},
   "outputs": [],
   "source": [
    "def train(net, train_iter, num_epochs, loss, updater):\n",
    "    for epoch in range(num_epochs):\n",
    "        train_epoch(net, train_iter, loss, updater, 0.02)"
   ]
  },
  {
   "cell_type": "code",
   "execution_count": 17,
   "metadata": {},
   "outputs": [
    {
     "name": "stderr",
     "output_type": "stream",
     "text": [
      "<ipython-input-9-e9e2268868d5>:3: UserWarning: To copy construct from a tensor, it is recommended to use sourceTensor.clone().detach() or sourceTensor.clone().detach().requires_grad_(True), rather than torch.tensor(sourceTensor).\n",
      "  accuracy = torch.tensor((y_true == y_pred), dtype=torch.float32)\n"
     ]
    },
    {
     "name": "stdout",
     "output_type": "stream",
     "text": [
      "Accuracy 0.12, Loss: 2.44\n",
      "Accuracy 0.29, Loss: 1.72\n",
      "Accuracy 0.63, Loss: 1.31\n",
      "Accuracy 0.60, Loss: 1.32\n",
      "Accuracy 0.67, Loss: 1.13\n",
      "Accuracy 0.72, Loss: 1.06\n",
      "Accuracy 0.73, Loss: 1.10\n",
      "Accuracy 0.75, Loss: 1.01\n",
      "Accuracy 0.73, Loss: 1.10\n",
      "Accuracy 0.76, Loss: 1.07\n",
      "Accuracy 0.76, Loss: 1.08\n",
      "Accuracy 0.71, Loss: 1.12\n",
      "Accuracy 0.81, Loss: 0.96\n",
      "Accuracy 0.74, Loss: 1.10\n",
      "Accuracy 0.79, Loss: 1.04\n",
      "Accuracy 0.78, Loss: 1.01\n",
      "Accuracy 0.71, Loss: 1.10\n",
      "Accuracy 0.80, Loss: 0.97\n",
      "Accuracy 0.80, Loss: 1.01\n",
      "Accuracy 0.78, Loss: 1.00\n",
      "Accuracy 0.78, Loss: 1.05\n",
      "Accuracy 0.84, Loss: 0.94\n",
      "Accuracy 0.84, Loss: 0.96\n",
      "Accuracy 0.82, Loss: 0.96\n",
      "Accuracy 0.79, Loss: 1.00\n",
      "Accuracy 0.81, Loss: 1.04\n",
      "Accuracy 0.85, Loss: 0.94\n",
      "Accuracy 0.79, Loss: 1.01\n",
      "Accuracy 0.81, Loss: 1.01\n",
      "Accuracy 0.82, Loss: 0.98\n"
     ]
    }
   ],
   "source": [
    "num_epochs = 10\n",
    "train(net, train_iter, num_epochs, cross_entropy, updater)"
   ]
  }
 ],
 "metadata": {
  "kernelspec": {
   "display_name": "Python 3",
   "language": "python",
   "name": "python3"
  },
  "language_info": {
   "codemirror_mode": {
    "name": "ipython",
    "version": 3
   },
   "file_extension": ".py",
   "mimetype": "text/x-python",
   "name": "python",
   "nbconvert_exporter": "python",
   "pygments_lexer": "ipython3",
   "version": "3.8.8"
  }
 },
 "nbformat": 4,
 "nbformat_minor": 4
}
