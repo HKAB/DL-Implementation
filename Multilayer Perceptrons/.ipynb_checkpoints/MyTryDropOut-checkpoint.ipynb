{
 "cells": [
  {
   "cell_type": "code",
   "execution_count": 1,
   "id": "specialized-filing",
   "metadata": {},
   "outputs": [],
   "source": [
    "from d2l import torch as d2l\n",
    "import torch\n",
    "from torch import nn"
   ]
  },
  {
   "cell_type": "code",
   "execution_count": 2,
   "id": "hearing-curve",
   "metadata": {},
   "outputs": [],
   "source": [
    "def dropout_layer(h, rate):\n",
    "#     print(h.shape)\n",
    "    # h have shape batch_size x layer size\n",
    "    p = rate*h.shape[1]\n",
    "    mask = torch.randperm(h.shape[1])\n",
    "#     print(f'mask: {mask > p}')\n",
    "    h = h*(mask >= p)\n",
    "    return h"
   ]
  },
  {
   "cell_type": "code",
   "execution_count": 3,
   "id": "younger-boards",
   "metadata": {},
   "outputs": [
    {
     "data": {
      "text/plain": [
       "tensor([[0, 2, 3, 0]])"
      ]
     },
     "execution_count": 3,
     "metadata": {},
     "output_type": "execute_result"
    }
   ],
   "source": [
    "dropout_layer(torch.tensor([[1, 2, 3, 4]]), 0.5)"
   ]
  },
  {
   "cell_type": "code",
   "execution_count": 4,
   "id": "revolutionary-masters",
   "metadata": {},
   "outputs": [],
   "source": [
    "batch_size = 256\n",
    "lr = 0.5\n",
    "epochs = 10\n",
    "num_inputs = 784\n",
    "num_outputs = 10\n",
    "num_hiddens1 = 256\n",
    "num_hiddens2 = 256\n",
    "dropout_rate = [0.2, 0.5]"
   ]
  },
  {
   "cell_type": "code",
   "execution_count": 5,
   "id": "durable-custom",
   "metadata": {},
   "outputs": [],
   "source": [
    "class MLP(nn.Module):\n",
    "    def __init__(self, num_inputs, num_outputs, num_hiddens1, num_hiddens2, dropout_rate):\n",
    "        super(MLP, self).__init__()\n",
    "        self.lin1 = nn.Linear(num_inputs, num_hiddens1)\n",
    "        self.lin2 = nn.Linear(num_hiddens1, num_hiddens2)\n",
    "        self.lin3 = nn.Linear(num_hiddens2, num_outputs)\n",
    "    \n",
    "        self.relu = nn.ReLU()\n",
    "        \n",
    "        self.num_inputs = num_inputs\n",
    "        self.num_hiddens1 = num_hiddens1\n",
    "        self.num_hiddens2 = num_hiddens2\n",
    "        self.num_outputs = num_outputs\n",
    "        \n",
    "        self.dropout_rate = dropout_rate\n",
    "        \n",
    "    def forward(self, x):\n",
    "        h1 = self.relu(self.lin1(x.reshape((-1, self.num_inputs))))\n",
    "\n",
    "        if (self.dropout_rate):\n",
    "            h1 = dropout_layer(h1, self.dropout_rate[0])\n",
    "        \n",
    "        h2 = self.relu(self.lin2(h1))\n",
    "        \n",
    "        if (self.dropout_rate):\n",
    "            h2 = dropout_layer(h2, self.dropout_rate[1])\n",
    "            \n",
    "        o = self.lin3(h2)\n",
    "        return o\n",
    "net = MLP(num_inputs, num_outputs, num_hiddens1, num_hiddens2, dropout_rate)"
   ]
  },
  {
   "cell_type": "code",
   "execution_count": 6,
   "id": "touched-bench",
   "metadata": {},
   "outputs": [],
   "source": [
    "loss = nn.CrossEntropyLoss()\n",
    "updater = torch.optim.SGD(net.parameters(), lr=lr)"
   ]
  },
  {
   "cell_type": "code",
   "execution_count": 7,
   "id": "hybrid-importance",
   "metadata": {},
   "outputs": [],
   "source": [
    "train_iter, test_iter = d2l.load_data_fashion_mnist(batch_size)"
   ]
  },
  {
   "cell_type": "code",
   "execution_count": 8,
   "id": "textile-sheffield",
   "metadata": {},
   "outputs": [
    {
     "name": "stdout",
     "output_type": "stream",
     "text": [
      "Loss: 2.30, accuracy: 0.11\n",
      "Loss: 0.98, accuracy: 0.59\n",
      "Loss: 0.91, accuracy: 0.67\n",
      "Loss: 0.84, accuracy: 0.64\n",
      "Loss: 0.71, accuracy: 0.74\n",
      "Loss: 0.62, accuracy: 0.77\n",
      "Loss: 0.47, accuracy: 0.81\n",
      "Loss: 0.50, accuracy: 0.81\n",
      "Loss: 0.55, accuracy: 0.82\n",
      "Loss: 0.54, accuracy: 0.82\n",
      "Loss: 0.46, accuracy: 0.84\n",
      "Loss: 0.42, accuracy: 0.83\n",
      "Loss: 0.49, accuracy: 0.79\n",
      "Loss: 0.41, accuracy: 0.88\n",
      "Loss: 0.45, accuracy: 0.84\n",
      "Loss: 0.40, accuracy: 0.86\n",
      "Loss: 0.32, accuracy: 0.88\n",
      "Loss: 0.45, accuracy: 0.84\n",
      "Loss: 0.46, accuracy: 0.84\n",
      "Loss: 0.43, accuracy: 0.85\n",
      "Loss: 0.35, accuracy: 0.84\n",
      "Loss: 0.52, accuracy: 0.80\n",
      "Loss: 0.30, accuracy: 0.91\n",
      "Loss: 0.61, accuracy: 0.78\n",
      "Loss: 0.43, accuracy: 0.82\n",
      "Loss: 0.30, accuracy: 0.89\n",
      "Loss: 0.35, accuracy: 0.88\n",
      "Loss: 0.39, accuracy: 0.86\n",
      "Loss: 0.40, accuracy: 0.83\n",
      "Loss: 0.46, accuracy: 0.82\n"
     ]
    }
   ],
   "source": [
    "for epoch in range(epochs):\n",
    "#     net.train()\n",
    "    for i, (X, y) in enumerate(train_iter):\n",
    "        \n",
    "        y_hat = net(X)\n",
    "        l = loss(y_hat, y)\n",
    "        \n",
    "        updater.zero_grad()\n",
    "        l.backward()\n",
    "        updater.step()\n",
    "        \n",
    "        if (i % 100 == 0):\n",
    "            print(f'Loss: {l.sum():.2f}, accuracy: {(torch.argmax(y_hat, dim=1) == y).sum()/y.shape[0]:.2f}')\n",
    "        "
   ]
  }
 ],
 "metadata": {
  "kernelspec": {
   "display_name": "Python 3",
   "language": "python",
   "name": "python3"
  },
  "language_info": {
   "codemirror_mode": {
    "name": "ipython",
    "version": 3
   },
   "file_extension": ".py",
   "mimetype": "text/x-python",
   "name": "python",
   "nbconvert_exporter": "python",
   "pygments_lexer": "ipython3",
   "version": "3.8.8"
  }
 },
 "nbformat": 4,
 "nbformat_minor": 5
}
