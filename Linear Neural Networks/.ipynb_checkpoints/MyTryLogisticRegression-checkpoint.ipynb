{
 "cells": [
  {
   "cell_type": "code",
   "execution_count": 1,
   "id": "wicked-chicago",
   "metadata": {},
   "outputs": [],
   "source": [
    "import torch\n",
    "import random\n",
    "from d2l import torch as d2l"
   ]
  },
  {
   "cell_type": "code",
   "execution_count": 127,
   "id": "terminal-shift",
   "metadata": {},
   "outputs": [],
   "source": [
    "train_iter, test_iter = d2l.load_data_fashion_mnist(batch_size=256)"
   ]
  },
  {
   "cell_type": "code",
   "execution_count": 133,
   "id": "composed-western",
   "metadata": {},
   "outputs": [],
   "source": [
    "input_shape, output_shape = 28*28, 10\n",
    "W = torch.normal(0, 0.01, (input_shape, output_shape), requires_grad=True)\n",
    "b = torch.zeros(output_shape, requires_grad=True)"
   ]
  },
  {
   "cell_type": "code",
   "execution_count": 4,
   "id": "recovered-sharp",
   "metadata": {},
   "outputs": [
    {
     "data": {
      "text/plain": [
       "(torch.Size([784, 10]), torch.Size([10]))"
      ]
     },
     "execution_count": 4,
     "metadata": {},
     "output_type": "execute_result"
    }
   ],
   "source": [
    "W.shape, b.shape"
   ]
  },
  {
   "cell_type": "code",
   "execution_count": 5,
   "id": "modular-mount",
   "metadata": {},
   "outputs": [],
   "source": [
    "def loss(y_pred, y_true):\n",
    "    return (-y_true*torch.log(y_pred))"
   ]
  },
  {
   "cell_type": "code",
   "execution_count": 87,
   "id": "handy-kuwait",
   "metadata": {},
   "outputs": [
    {
     "data": {
      "text/plain": [
       "tensor([[0.0900, 0.2447, 0.6652],\n",
       "        [0.1065, 0.1065, 0.7870]])"
      ]
     },
     "execution_count": 87,
     "metadata": {},
     "output_type": "execute_result"
    }
   ],
   "source": [
    "def softmax(o):\n",
    "    return torch.exp(o)/torch.exp(o).sum(1, keepdim=True)\n",
    "softmax(torch.tensor([[1.0, 2.0, 3.0], [4.0, 4.0, 6.0]]))"
   ]
  },
  {
   "cell_type": "code",
   "execution_count": 7,
   "id": "radical-survivor",
   "metadata": {},
   "outputs": [],
   "source": [
    "def net(X):\n",
    "    return softmax(torch.matmul(X.reshape(-1, W.shape[0]), W) + b)"
   ]
  },
  {
   "cell_type": "code",
   "execution_count": 8,
   "id": "governmental-orchestra",
   "metadata": {},
   "outputs": [],
   "source": [
    "def sgd(params, lr, batch_size):\n",
    "    with torch.no_grad():\n",
    "        for param in params:\n",
    "            param -= lr*param.grad/batch_size\n",
    "            param.grad.zero_()"
   ]
  },
  {
   "cell_type": "code",
   "execution_count": 129,
   "id": "european-luther",
   "metadata": {},
   "outputs": [
    {
     "name": "stderr",
     "output_type": "stream",
     "text": [
      "<ipython-input-129-bbfd8c8d152d>:4: UserWarning: To copy construct from a tensor, it is recommended to use sourceTensor.clone().detach() or sourceTensor.clone().detach().requires_grad_(True), rather than torch.tensor(sourceTensor).\n",
      "  accuracy = torch.tensor((y_pred == y_true), dtype=torch.float32).mean()\n"
     ]
    },
    {
     "data": {
      "text/plain": [
       "tensor(0.6667)"
      ]
     },
     "execution_count": 129,
     "metadata": {},
     "output_type": "execute_result"
    }
   ],
   "source": [
    "def accuracy(y_pred, y_true):\n",
    "    y_pred = torch.argmax(y_pred, dim=1)\n",
    "#     print(y_pred)\n",
    "    accuracy = torch.tensor((y_pred == y_true), dtype=torch.float32).mean()\n",
    "    return accuracy.sum()\n",
    "accuracy(torch.tensor([[1, 2, 3], [3, 2, 1], [1, 2, 3]]), torch.tensor([2, 1, 2]))"
   ]
  },
  {
   "cell_type": "code",
   "execution_count": 130,
   "id": "piano-comedy",
   "metadata": {},
   "outputs": [],
   "source": [
    "lr = 0.1\n",
    "epochs = 10\n",
    "batch_size = 256\n",
    "steps = 1000"
   ]
  },
  {
   "cell_type": "code",
   "execution_count": 131,
   "id": "spanish-romantic",
   "metadata": {},
   "outputs": [
    {
     "data": {
      "text/plain": [
       "torch.Size([784, 10])"
      ]
     },
     "execution_count": 131,
     "metadata": {},
     "output_type": "execute_result"
    }
   ],
   "source": [
    "W.shape"
   ]
  },
  {
   "cell_type": "code",
   "execution_count": null,
   "id": "tutorial-combat",
   "metadata": {},
   "outputs": [],
   "source": [
    "for epoch in range(epochs):\n",
    "    for i, (X, y) in enumerate(train_iter):\n",
    "        print(y)\n",
    "#         print(X.shape)\n",
    "#         break\n",
    "#     break\n",
    "        one_hot_y = torch.zeros(batch_size, 10)\n",
    "        one_hot_y[torch.arange(batch_size), y] = 1\n",
    "        y_pred = net(X)\n",
    "        l = loss(y_pred, one_hot_y)\n",
    "        l.sum().backward()\n",
    "        sgd((W, b), lr, batch_size)\n",
    "        if (i % steps == 0):\n",
    "            print(f'Loss: {l.sum():.2f}')"
   ]
  },
  {
   "cell_type": "code",
   "execution_count": 135,
   "id": "ambient-photographer",
   "metadata": {},
   "outputs": [
    {
     "name": "stderr",
     "output_type": "stream",
     "text": [
      "<ipython-input-129-bbfd8c8d152d>:4: UserWarning: To copy construct from a tensor, it is recommended to use sourceTensor.clone().detach() or sourceTensor.clone().detach().requires_grad_(True), rather than torch.tensor(sourceTensor).\n",
      "  accuracy = torch.tensor((y_pred == y_true), dtype=torch.float32).mean()\n"
     ]
    },
    {
     "name": "stdout",
     "output_type": "stream",
     "text": [
      "Accuracy: 0.80859375\n",
      "Accuracy: 0.83984375\n",
      "Accuracy: 0.80078125\n",
      "Accuracy: 0.796875\n",
      "Accuracy: 0.77734375\n",
      "Accuracy: 0.81640625\n",
      "Accuracy: 0.8203125\n",
      "Accuracy: 0.78515625\n",
      "Accuracy: 0.82421875\n",
      "Accuracy: 0.79296875\n",
      "Accuracy: 0.80078125\n",
      "Accuracy: 0.76171875\n",
      "Accuracy: 0.7578125\n",
      "Accuracy: 0.77734375\n",
      "Accuracy: 0.8046875\n",
      "Accuracy: 0.76953125\n",
      "Accuracy: 0.77734375\n",
      "Accuracy: 0.875\n",
      "Accuracy: 0.7890625\n",
      "Accuracy: 0.76171875\n",
      "Accuracy: 0.78515625\n",
      "Accuracy: 0.76953125\n",
      "Accuracy: 0.76171875\n",
      "Accuracy: 0.78125\n",
      "Accuracy: 0.80078125\n",
      "Accuracy: 0.79296875\n",
      "Accuracy: 0.78125\n",
      "Accuracy: 0.75390625\n",
      "Accuracy: 0.80078125\n",
      "Accuracy: 0.8125\n",
      "Accuracy: 0.78125\n",
      "Accuracy: 0.78515625\n",
      "Accuracy: 0.80078125\n",
      "Accuracy: 0.83203125\n",
      "Accuracy: 0.765625\n",
      "Accuracy: 0.796875\n",
      "Accuracy: 0.7890625\n",
      "Accuracy: 0.80859375\n",
      "Accuracy: 0.81640625\n",
      "Accuracy: 0.875\n"
     ]
    }
   ],
   "source": [
    "for i, (X, y) in enumerate(test_iter):\n",
    "#     net.eval()\n",
    "    with torch.no_grad():\n",
    "        y_pred = net(X)\n",
    "#     l = loss(y_pred, one_hot_y)\n",
    "        print(f'Accuracy: {accuracy(y_pred, y)}')"
   ]
  }
 ],
 "metadata": {
  "kernelspec": {
   "display_name": "Python 3",
   "language": "python",
   "name": "python3"
  },
  "language_info": {
   "codemirror_mode": {
    "name": "ipython",
    "version": 3
   },
   "file_extension": ".py",
   "mimetype": "text/x-python",
   "name": "python",
   "nbconvert_exporter": "python",
   "pygments_lexer": "ipython3",
   "version": "3.8.8"
  }
 },
 "nbformat": 4,
 "nbformat_minor": 5
}
