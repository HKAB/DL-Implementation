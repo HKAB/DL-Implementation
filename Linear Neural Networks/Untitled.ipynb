{
 "cells": [
  {
   "cell_type": "code",
   "execution_count": 2,
   "id": "innovative-universe",
   "metadata": {},
   "outputs": [],
   "source": [
    "import torch\n",
    "import random\n",
    "from d2l import torch as d2l"
   ]
  },
  {
   "cell_type": "code",
   "execution_count": 50,
   "id": "vocal-passport",
   "metadata": {},
   "outputs": [],
   "source": [
    "train_iter, test_iter = d2l.load_data_fashion_mnist(32)"
   ]
  },
  {
   "cell_type": "code",
   "execution_count": 49,
   "id": "finnish-narrow",
   "metadata": {},
   "outputs": [],
   "source": [
    "input_shape, output_shape = 28*28, 10\n",
    "W = torch.normal(0, 0.01, (input_shape, output_shape), requires_grad=True)\n",
    "b = torch.zeros(output_shape, requires_grad=True)"
   ]
  },
  {
   "cell_type": "code",
   "execution_count": 6,
   "id": "nuclear-traveler",
   "metadata": {},
   "outputs": [
    {
     "data": {
      "text/plain": [
       "(torch.Size([784, 10]), torch.Size([10]))"
      ]
     },
     "execution_count": 6,
     "metadata": {},
     "output_type": "execute_result"
    }
   ],
   "source": [
    "W.shape, b.shape"
   ]
  },
  {
   "cell_type": "code",
   "execution_count": 40,
   "id": "heard-minute",
   "metadata": {},
   "outputs": [],
   "source": [
    "def loss(y_pred, y_true):\n",
    "    return (-y_true*torch.log(y_pred))"
   ]
  },
  {
   "cell_type": "code",
   "execution_count": 13,
   "id": "furnished-finder",
   "metadata": {},
   "outputs": [],
   "source": [
    "def softmax(o):\n",
    "    return torch.exp(o)/torch.exp(o).sum()"
   ]
  },
  {
   "cell_type": "code",
   "execution_count": 35,
   "id": "theoretical-warehouse",
   "metadata": {},
   "outputs": [],
   "source": [
    "def net(X):\n",
    "    return softmax(torch.matmul(X.reshape(-1, W.shape[0]), W) + b)"
   ]
  },
  {
   "cell_type": "code",
   "execution_count": 19,
   "id": "local-hopkins",
   "metadata": {},
   "outputs": [],
   "source": [
    "def sgd(params, lr, batch_size):\n",
    "    with torch.no_grad():\n",
    "        for param in params:\n",
    "            param -= lr*param.grad/batch_size\n",
    "            param.grad.zero_()"
   ]
  },
  {
   "cell_type": "code",
   "execution_count": 20,
   "id": "manual-reputation",
   "metadata": {},
   "outputs": [],
   "source": [
    "lr = 0.1\n",
    "epochs = 3\n",
    "batch_size = 32"
   ]
  },
  {
   "cell_type": "code",
   "execution_count": 33,
   "id": "similar-hundred",
   "metadata": {},
   "outputs": [
    {
     "data": {
      "text/plain": [
       "torch.Size([784, 10])"
      ]
     },
     "execution_count": 33,
     "metadata": {},
     "output_type": "execute_result"
    }
   ],
   "source": [
    "W.shape"
   ]
  },
  {
   "cell_type": "code",
   "execution_count": 52,
   "id": "placed-glucose",
   "metadata": {},
   "outputs": [
    {
     "name": "stdout",
     "output_type": "stream",
     "text": [
      "torch.Size([32])\n"
     ]
    }
   ],
   "source": [
    "for epoch in range(epochs):\n",
    "    for X, y in train_iter:\n",
    "        print(y.shape)\n",
    "        break\n",
    "    break\n",
    "#         y_pred = net(X)\n",
    "#         l = loss(y_pred, y)\n",
    "#         l.sum().backward()\n",
    "#         sgd((W, b), lr, batch_size)\n",
    "#         print(f'Loss: {l.sum():.2f}')"
   ]
  }
 ],
 "metadata": {
  "kernelspec": {
   "display_name": "Python 3",
   "language": "python",
   "name": "python3"
  },
  "language_info": {
   "codemirror_mode": {
    "name": "ipython",
    "version": 3
   },
   "file_extension": ".py",
   "mimetype": "text/x-python",
   "name": "python",
   "nbconvert_exporter": "python",
   "pygments_lexer": "ipython3",
   "version": "3.8.8"
  }
 },
 "nbformat": 4,
 "nbformat_minor": 5
}
