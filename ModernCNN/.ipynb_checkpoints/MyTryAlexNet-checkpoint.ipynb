{
 "cells": [
  {
   "cell_type": "code",
   "execution_count": 1,
   "id": "copyrighted-poultry",
   "metadata": {},
   "outputs": [],
   "source": [
    "import torch\n",
    "import torch.nn as nn\n",
    "from d2l import torch as d2l"
   ]
  },
  {
   "cell_type": "code",
   "execution_count": 6,
   "id": "hearing-range",
   "metadata": {},
   "outputs": [],
   "source": [
    "class AlexNet(nn.Module):\n",
    "    def __init__(self):\n",
    "        super().__init__()\n",
    "        self.features = nn.Sequential(\n",
    "            nn.Conv2d(1, 96, kernel_size=11, stride=4), nn.ReLU(),\n",
    "            nn.MaxPool2d(kernel_size=3, stride=2),\n",
    "            nn.Conv2d(96, 256, kernel_size=5, padding=2), nn.ReLU(),\n",
    "            nn.MaxPool2d(kernel_size=3, stride=2),\n",
    "            nn.Conv2d(256, 384, kernel_size=3, padding=1), nn.ReLU(),\n",
    "            nn.Conv2d(384, 384, kernel_size=3, padding=1), nn.ReLU(),\n",
    "            nn.Conv2d(384, 256, kernel_size=3, padding=1), nn.ReLU(),\n",
    "            nn.MaxPool2d(kernel_size=3, stride=2),\n",
    "            nn.Flatten(),\n",
    "            nn.Linear(6400, 4096), nn.ReLU(), nn.Dropout(0.5),\n",
    "            nn.Linear(4096, 4096), nn.ReLU(), nn.Dropout(0.5),\n",
    "            nn.Linear(4096, 10),\n",
    "        )\n",
    "    def forward(self, X):\n",
    "        X = X.view(-1, 1, 224, 224)\n",
    "        return self.features(X)"
   ]
  },
  {
   "cell_type": "code",
   "execution_count": 8,
   "id": "vulnerable-reliance",
   "metadata": {},
   "outputs": [
    {
     "name": "stdout",
     "output_type": "stream",
     "text": [
      "Conv2d: torch.Size([1, 96, 54, 54])\n",
      "ReLU: torch.Size([1, 96, 54, 54])\n",
      "MaxPool2d: torch.Size([1, 96, 26, 26])\n",
      "Conv2d: torch.Size([1, 256, 26, 26])\n",
      "ReLU: torch.Size([1, 256, 26, 26])\n",
      "MaxPool2d: torch.Size([1, 256, 12, 12])\n",
      "Conv2d: torch.Size([1, 384, 12, 12])\n",
      "ReLU: torch.Size([1, 384, 12, 12])\n",
      "Conv2d: torch.Size([1, 384, 12, 12])\n",
      "ReLU: torch.Size([1, 384, 12, 12])\n",
      "Conv2d: torch.Size([1, 256, 12, 12])\n",
      "ReLU: torch.Size([1, 256, 12, 12])\n",
      "MaxPool2d: torch.Size([1, 256, 5, 5])\n",
      "Flatten: torch.Size([1, 6400])\n",
      "Linear: torch.Size([1, 4096])\n",
      "ReLU: torch.Size([1, 4096])\n",
      "Dropout: torch.Size([1, 4096])\n",
      "Linear: torch.Size([1, 4096])\n",
      "ReLU: torch.Size([1, 4096])\n",
      "Dropout: torch.Size([1, 4096])\n",
      "Linear: torch.Size([1, 10])\n"
     ]
    }
   ],
   "source": [
    "X = torch.rand((1, 1, 224, 224))\n",
    "\n",
    "for layer in AlexNet().features:\n",
    "    X = layer(X)\n",
    "    print(f'{layer.__class__.__name__}: {X.shape}')"
   ]
  }
 ],
 "metadata": {
  "kernelspec": {
   "display_name": "Python 3",
   "language": "python",
   "name": "python3"
  },
  "language_info": {
   "codemirror_mode": {
    "name": "ipython",
    "version": 3
   },
   "file_extension": ".py",
   "mimetype": "text/x-python",
   "name": "python",
   "nbconvert_exporter": "python",
   "pygments_lexer": "ipython3",
   "version": "3.8.8"
  }
 },
 "nbformat": 4,
 "nbformat_minor": 5
}
