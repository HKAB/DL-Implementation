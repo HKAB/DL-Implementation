{
 "cells": [
  {
   "cell_type": "code",
   "execution_count": 1,
   "id": "furnished-hollow",
   "metadata": {},
   "outputs": [],
   "source": [
    "from d2l import torch as d2l\n",
    "import torch\n",
    "import torch.nn as nn"
   ]
  },
  {
   "cell_type": "code",
   "execution_count": 14,
   "id": "mental-minister",
   "metadata": {},
   "outputs": [],
   "source": [
    "def vgg_block(num_conv, num_inputs, num_outputs):\n",
    "    blk = []\n",
    "    for i in range(num_conv):\n",
    "        blk.append(nn.Conv2d(num_inputs, num_outputs, kernel_size=3, padding=1))\n",
    "        num_inputs = num_outputs\n",
    "    blk.append(nn.MaxPool2d(kernel_size=2, stride=2))\n",
    "    return nn.Sequential(*blk)"
   ]
  },
  {
   "cell_type": "code",
   "execution_count": 4,
   "id": "valid-quality",
   "metadata": {},
   "outputs": [],
   "source": [
    "conv_arch = ((1, 64), (1, 128), (2, 256), (2, 512), (2, 512))"
   ]
  },
  {
   "cell_type": "code",
   "execution_count": 17,
   "id": "encouraging-academy",
   "metadata": {},
   "outputs": [],
   "source": [
    "def vgg(conv_arch):\n",
    "    blks = []\n",
    "    num_inputs = 1\n",
    "    for num_conv, num_outputs in conv_arch:\n",
    "        blks.append(vgg_block(num_conv, num_inputs, num_outputs))\n",
    "        num_inputs = num_outputs\n",
    "    \n",
    "    return nn.Sequential(\n",
    "        *blks,\n",
    "        nn.Flatten(),\n",
    "        nn.Linear(25088, 4096),\n",
    "        nn.Dropout(p=0.5),\n",
    "        nn.Linear(4096, 4096),\n",
    "        nn.Dropout(p=0.5),\n",
    "        nn.Linear(4096, 10)\n",
    "    )\n",
    "    return blks"
   ]
  },
  {
   "cell_type": "code",
   "execution_count": 18,
   "id": "significant-success",
   "metadata": {},
   "outputs": [],
   "source": [
    "vgg_model = vgg(conv_arch)"
   ]
  },
  {
   "cell_type": "code",
   "execution_count": 19,
   "id": "spread-african",
   "metadata": {},
   "outputs": [
    {
     "name": "stdout",
     "output_type": "stream",
     "text": [
      "torch.Size([1, 64, 112, 112])\n",
      "torch.Size([1, 128, 56, 56])\n",
      "torch.Size([1, 256, 28, 28])\n",
      "torch.Size([1, 512, 14, 14])\n",
      "torch.Size([1, 512, 7, 7])\n",
      "torch.Size([1, 25088])\n",
      "torch.Size([1, 4096])\n",
      "torch.Size([1, 4096])\n",
      "torch.Size([1, 4096])\n",
      "torch.Size([1, 4096])\n",
      "torch.Size([1, 10])\n"
     ]
    }
   ],
   "source": [
    "X = torch.rand((1, 1, 224, 224))\n",
    "\n",
    "for layer in vgg_model:\n",
    "    X = layer(X)\n",
    "    print(f'{X.shape}')"
   ]
  }
 ],
 "metadata": {
  "kernelspec": {
   "display_name": "Python 3",
   "language": "python",
   "name": "python3"
  },
  "language_info": {
   "codemirror_mode": {
    "name": "ipython",
    "version": 3
   },
   "file_extension": ".py",
   "mimetype": "text/x-python",
   "name": "python",
   "nbconvert_exporter": "python",
   "pygments_lexer": "ipython3",
   "version": "3.8.8"
  }
 },
 "nbformat": 4,
 "nbformat_minor": 5
}
