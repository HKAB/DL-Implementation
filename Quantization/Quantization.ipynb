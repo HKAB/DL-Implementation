{
 "cells": [
  {
   "cell_type": "code",
   "execution_count": 1,
   "id": "billion-reconstruction",
   "metadata": {},
   "outputs": [],
   "source": [
    "import numpy as np"
   ]
  },
  {
   "cell_type": "code",
   "execution_count": 2,
   "id": "portable-benjamin",
   "metadata": {},
   "outputs": [],
   "source": [
    "np.random.seed(0)"
   ]
  },
  {
   "cell_type": "code",
   "execution_count": 10,
   "id": "radio-cinema",
   "metadata": {},
   "outputs": [],
   "source": [
    "m, n, p = 2, 3, 3"
   ]
  },
  {
   "cell_type": "code",
   "execution_count": 4,
   "id": "vietnamese-lafayette",
   "metadata": {},
   "outputs": [],
   "source": [
    "def generate_quantization_constants(alpha, beta, alpha_q, beta_q):\n",
    "    s = (beta - alpha)/(beta_q - alpha_q)\n",
    "    z = int((beta * alpha_q - alpha * beta_q)/(beta - alpha))\n",
    "    \n",
    "    return s, z"
   ]
  },
  {
   "cell_type": "code",
   "execution_count": 5,
   "id": "earned-evans",
   "metadata": {},
   "outputs": [],
   "source": [
    "def generate_quantization_int8_constants(alpha, beta):\n",
    "    b = 8\n",
    "    alpha_q = -2**(b - 1)\n",
    "    beta_q = 2**(b - 1) - 1\n",
    "    \n",
    "    s, z = generate_quantization_constants(alpha, beta, alpha_q, beta_q)\n",
    "    \n",
    "    return s, z"
   ]
  },
  {
   "cell_type": "code",
   "execution_count": 6,
   "id": "rocky-repository",
   "metadata": {},
   "outputs": [],
   "source": [
    "def quantization(x, s, z, alpha_q, beta_q):\n",
    "    x_q = np.round(1/s*x + z, decimals=0)\n",
    "    x_q = np.clip(x_q, a_min=alpha_q, a_max=beta_q)\n",
    "    \n",
    "    return x_q"
   ]
  },
  {
   "cell_type": "code",
   "execution_count": 7,
   "id": "analyzed-uniform",
   "metadata": {},
   "outputs": [],
   "source": [
    "def quantization_int8(x, s, z):\n",
    "    x_q = quantization(x, s, z, -128, 127)\n",
    "    \n",
    "    x_q = x_q.astype(np.int8)\n",
    "    return x_q"
   ]
  },
  {
   "cell_type": "code",
   "execution_count": 11,
   "id": "assumed-racing",
   "metadata": {},
   "outputs": [],
   "source": [
    "alpha_X = -100.0\n",
    "beta_X = 80.0\n",
    "s_X, z_X = generate_quantization_int8_constants(alpha_X, beta_X)\n",
    "X = np.random.uniform(low=alpha_X, high=beta_X, size=(m, p)).astype(np.float32)\n",
    "X_q = quantization_int8(X, s_X, z_X)"
   ]
  },
  {
   "cell_type": "code",
   "execution_count": 12,
   "id": "expected-collector",
   "metadata": {},
   "outputs": [
    {
     "data": {
      "text/plain": [
       "(array([[ 73.4593   , -30.980526 ,  42.510506 ],\n",
       "        [ -4.7989144,   2.248021 ,  66.60739  ]], dtype=float32),\n",
       " array([[117, -31,  73],\n",
       "        [  6,  16, 107]], dtype=int8))"
      ]
     },
     "execution_count": 12,
     "metadata": {},
     "output_type": "execute_result"
    }
   ],
   "source": [
    "X, X_q"
   ]
  },
  {
   "cell_type": "code",
   "execution_count": 13,
   "id": "vocational-disposal",
   "metadata": {},
   "outputs": [],
   "source": [
    "alpha_W = -20.0\n",
    "beta_W = 10.0\n",
    "s_W, z_W = generate_quantization_int8_constants(alpha=alpha_W, beta=beta_W)\n",
    "W = np.random.uniform(low=alpha_W, high=beta_W, size=(p, n)).astype(np.float32)\n",
    "W_q = quantization_int8(x=W, s=s_W, z=z_W)"
   ]
  },
  {
   "cell_type": "code",
   "execution_count": 14,
   "id": "tough-occasion",
   "metadata": {},
   "outputs": [
    {
     "data": {
      "text/plain": [
       "(array([[-17.868917 , -17.386122 , -19.393448 ],\n",
       "        [  4.9785953,   3.3447025,   6.1003647],\n",
       "        [  9.35855  ,   3.974757 ,  -6.155619 ]], dtype=float32),\n",
       " array([[-110, -106, -123],\n",
       "        [  84,   70,   94],\n",
       "        [ 122,   76,  -10]], dtype=int8))"
      ]
     },
     "execution_count": 14,
     "metadata": {},
     "output_type": "execute_result"
    }
   ],
   "source": [
    "W, W_q"
   ]
  },
  {
   "cell_type": "code",
   "execution_count": 15,
   "id": "canadian-single",
   "metadata": {},
   "outputs": [],
   "source": [
    "alpha_b = -500.0\n",
    "beta_b = 500.0\n",
    "s_b, z_b = generate_quantization_int8_constants(alpha=alpha_b, beta=beta_b)\n",
    "b = np.random.uniform(low=alpha_b, high=beta_b, size=(1, n)).astype(np.float32)\n",
    "b_q = quantization_int8(x=b, s=s_b, z=z_b)"
   ]
  },
  {
   "cell_type": "code",
   "execution_count": 16,
   "id": "educated-livestock",
   "metadata": {},
   "outputs": [
    {
     "data": {
      "text/plain": [
       "(array([[ 280.52917, -381.7256 ,  139.92102]], dtype=float32),\n",
       " array([[ 72, -97,  36]], dtype=int8))"
      ]
     },
     "execution_count": 16,
     "metadata": {},
     "output_type": "execute_result"
    }
   ],
   "source": [
    "b, b_q"
   ]
  },
  {
   "cell_type": "code",
   "execution_count": 19,
   "id": "editorial-beginning",
   "metadata": {},
   "outputs": [],
   "source": [
    "# Y\n",
    "alpha_Y = -3000.0\n",
    "beta_Y = 3000.0\n",
    "s_Y, z_Y = generate_quantization_int8_constants(alpha=alpha_Y, beta=beta_Y)\n",
    "Y_expected = np.matmul(X, W) + b\n",
    "Y_q_expected = quantization_int8(x=Y_expected, s=s_Y, z=z_Y)"
   ]
  },
  {
   "cell_type": "code",
   "execution_count": 20,
   "id": "cheap-carry",
   "metadata": {},
   "outputs": [],
   "source": [
    "def quantization_matrix_multiplication_int8(X_q, W_q, b_q, s_X, z_X, s_W, z_W, s_b, z_b, s_Y, z_Y):\n",
    "\n",
    "    p = W_q.shape[0]\n",
    "\n",
    "    Y_q_simulated = (z_Y + (s_b / s_Y * (b_q.astype(np.int32) - z_b)).astype(np.int8) + ((s_X * s_W / s_Y) * (np.matmul(X_q.astype(np.int32), W_q.astype(np.int32)) - z_W * np.sum(X_q.astype(np.int32), axis=1, keepdims=True) - z_X * np.sum(W_q.astype(np.int32), axis=0, keepdims=True) + p * z_X * z_W)).astype(np.int8)).astype(np.int8)\n",
    "\n",
    "    return Y_q_simulated"
   ]
  },
  {
   "cell_type": "code",
   "execution_count": 21,
   "id": "champion-gambling",
   "metadata": {},
   "outputs": [],
   "source": [
    "Y_q_simulated = quantization_matrix_multiplication_int8(X_q=X_q, W_q=W_q, b_q=b_q, \n",
    "                                                        s_X=s_X, z_X=z_X, s_W=s_W, z_W=z_W, \n",
    "                                                        s_b=s_b, z_b=z_b, s_Y=s_Y, z_Y=z_Y)"
   ]
  },
  {
   "cell_type": "code",
   "execution_count": 24,
   "id": "static-zambia",
   "metadata": {},
   "outputs": [],
   "source": [
    "def dequantization(x, s, z):\n",
    "    x = s * (x - z)\n",
    "    x = x.astype(np.float32)\n",
    "    \n",
    "    return x"
   ]
  },
  {
   "cell_type": "code",
   "execution_count": 25,
   "id": "crude-abraham",
   "metadata": {},
   "outputs": [
    {
     "data": {
      "text/plain": [
       "(array([[ 1463.1698 ,  -993.25555,  1243.2084 ],\n",
       "        [ -690.0896 ,  -976.393  , -1035.904  ]], dtype=float32),\n",
       " array([[ 1435.2941,  -988.2353,  1200.    ],\n",
       "        [ -705.8823,  -964.7059, -1035.2941]], dtype=float32))"
      ]
     },
     "execution_count": 25,
     "metadata": {},
     "output_type": "execute_result"
    }
   ],
   "source": [
    "Y_expected, dequantization(Y_q_simulated, s_Y, z_Y)"
   ]
  }
 ],
 "metadata": {
  "kernelspec": {
   "display_name": "Python 3",
   "language": "python",
   "name": "python3"
  },
  "language_info": {
   "codemirror_mode": {
    "name": "ipython",
    "version": 3
   },
   "file_extension": ".py",
   "mimetype": "text/x-python",
   "name": "python",
   "nbconvert_exporter": "python",
   "pygments_lexer": "ipython3",
   "version": "3.8.8"
  }
 },
 "nbformat": 4,
 "nbformat_minor": 5
}
