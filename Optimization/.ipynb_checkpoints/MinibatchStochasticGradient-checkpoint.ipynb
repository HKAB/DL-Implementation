{
 "cells": [
  {
   "cell_type": "code",
   "execution_count": 58,
   "id": "compound-category",
   "metadata": {},
   "outputs": [],
   "source": [
    "import numpy as np\n",
    "import torch \n",
    "from d2l import torch as d2l\n",
    "import math\n",
    "import matplotlib.pyplot as plt\n",
    "from tqdm import tqdm"
   ]
  },
  {
   "cell_type": "code",
   "execution_count": 3,
   "id": "moral-panama",
   "metadata": {},
   "outputs": [],
   "source": [
    "A = torch.zeros((256, 256))\n",
    "B = torch.rand((256, 256))\n",
    "C = torch.rand((256, 256))"
   ]
  },
  {
   "cell_type": "code",
   "execution_count": 9,
   "id": "specific-welding",
   "metadata": {},
   "outputs": [
    {
     "name": "stdout",
     "output_type": "stream",
     "text": [
      "CPU times: user 788 ms, sys: 26.8 ms, total: 815 ms\n",
      "Wall time: 815 ms\n"
     ]
    }
   ],
   "source": [
    "%%time\n",
    "for i in range(256):\n",
    "    for j in range(256):\n",
    "        A[i, j] = torch.dot(B[i, :], C[:, j])"
   ]
  },
  {
   "cell_type": "code",
   "execution_count": 12,
   "id": "elder-orchestra",
   "metadata": {},
   "outputs": [
    {
     "name": "stdout",
     "output_type": "stream",
     "text": [
      "CPU times: user 54.4 ms, sys: 3.28 ms, total: 57.7 ms\n",
      "Wall time: 13.7 ms\n"
     ]
    }
   ],
   "source": [
    "%%time\n",
    "for i in range(256):\n",
    "    A[:, j] = torch.mv(B, C[:, j])"
   ]
  },
  {
   "cell_type": "code",
   "execution_count": 39,
   "id": "handed-indian",
   "metadata": {},
   "outputs": [
    {
     "name": "stdout",
     "output_type": "stream",
     "text": [
      "CPU times: user 4.43 ms, sys: 565 µs, total: 4.99 ms\n",
      "Wall time: 1.08 ms\n"
     ]
    }
   ],
   "source": [
    "%%time\n",
    "A = torch.mm(B, C)"
   ]
  },
  {
   "cell_type": "code",
   "execution_count": 28,
   "id": "noticed-handling",
   "metadata": {},
   "outputs": [
    {
     "name": "stdout",
     "output_type": "stream",
     "text": [
      "CPU times: user 6.99 ms, sys: 1.06 ms, total: 8.06 ms\n",
      "Wall time: 1.69 ms\n"
     ]
    }
   ],
   "source": [
    "%%time\n",
    "for i in range(0, 256, 64):\n",
    "    A[:, j:j + 64] = torch.mm(B, C[:, j:j+64])"
   ]
  },
  {
   "cell_type": "code",
   "execution_count": 40,
   "id": "beginning-packet",
   "metadata": {},
   "outputs": [],
   "source": [
    "#@save\n",
    "d2l.DATA_HUB['airfoil'] = (d2l.DATA_URL + 'airfoil_self_noise.dat',\n",
    "                           '76e5be1548fd8222e5074cf0faae75edff8cf93f')\n",
    "\n",
    "#@save\n",
    "def get_data_ch11(batch_size=10, n=1500):\n",
    "    data = np.genfromtxt(d2l.download('airfoil'), dtype=np.float32,\n",
    "                         delimiter='\\t')\n",
    "    data = torch.from_numpy((data - data.mean(axis=0)) / data.std(axis=0))\n",
    "    data_iter = d2l.load_array((data[:n, :-1], data[:n, -1]), batch_size,\n",
    "                               is_train=True)\n",
    "    return data_iter, data.shape[1] - 1"
   ]
  },
  {
   "cell_type": "code",
   "execution_count": 41,
   "id": "identified-talent",
   "metadata": {},
   "outputs": [],
   "source": [
    "def sgd(params, states, hyperparams):\n",
    "    for p in params:\n",
    "        p.data.sub_(hyperparams['lr']*p.grad)\n",
    "        p.grad.data.zero_()"
   ]
  },
  {
   "cell_type": "code",
   "execution_count": 71,
   "id": "aquatic-citizenship",
   "metadata": {},
   "outputs": [],
   "source": [
    "def train(trainer_fn, states, hyperparams, data_iter, feature_dim, num_epochs=2):\n",
    "    w = torch.normal(mean=0.0, std=0.01, size=(feature_dim, 1), requires_grad=True)\n",
    "    b = torch.zeros((1), requires_grad=True)\n",
    "    \n",
    "    net, loss = lambda X: d2l.linreg(X, w, b), d2l.squared_loss\n",
    "    \n",
    "    timer = d2l.Timer()\n",
    "    \n",
    "    for epoch in range(num_epochs):\n",
    "        epoch_loss = 0.0\n",
    "        timer.start()\n",
    "        for i, (X, y) in enumerate(tqdm(data_iter)):\n",
    "            l = loss(net(X), y).mean()\n",
    "            \n",
    "            l.backward()\n",
    "            trainer_fn([w, b], states, hyperparams)\n",
    "            \n",
    "            epoch_loss += d2l.evaluate_loss(net, data_iter, loss)\n",
    "        print(f'Epoch {epoch}, Loss: {epoch_loss/len(data_iter):.2f}')\n",
    "        timer.stop()\n",
    "    print(f'Epoch time average {timer.avg():.2f} s/epoch')"
   ]
  },
  {
   "cell_type": "code",
   "execution_count": 67,
   "id": "included-drove",
   "metadata": {},
   "outputs": [],
   "source": [
    "def train_sgd(lr, batch_size, num_epochs=2):\n",
    "    data_iter, feature_dim = get_data_ch11(batch_size)\n",
    "    \n",
    "    train(sgd, None, {\"lr\": lr}, data_iter, feature_dim, num_epochs)"
   ]
  },
  {
   "cell_type": "code",
   "execution_count": 72,
   "id": "orange-shame",
   "metadata": {},
   "outputs": [
    {
     "name": "stderr",
     "output_type": "stream",
     "text": [
      "100%|██████████| 1/1 [00:00<00:00, 28.41it/s]\n",
      "100%|██████████| 1/1 [00:00<00:00, 26.96it/s]\n",
      "100%|██████████| 1/1 [00:00<00:00, 24.50it/s]\n",
      "100%|██████████| 1/1 [00:00<00:00, 23.34it/s]\n",
      "100%|██████████| 1/1 [00:00<00:00, 29.91it/s]\n",
      "  0%|          | 0/1 [00:00<?, ?it/s]"
     ]
    },
    {
     "name": "stdout",
     "output_type": "stream",
     "text": [
      "Epoch 0, Loss: 0.27\n",
      "Epoch 1, Loss: 0.25\n",
      "Epoch 2, Loss: 0.25\n",
      "Epoch 3, Loss: 0.24\n",
      "Epoch 4, Loss: 0.24\n"
     ]
    },
    {
     "name": "stderr",
     "output_type": "stream",
     "text": [
      "100%|██████████| 1/1 [00:00<00:00,  5.74it/s]\n",
      "100%|██████████| 1/1 [00:00<00:00, 26.35it/s]\n",
      "100%|██████████| 1/1 [00:00<00:00, 32.90it/s]\n",
      "100%|██████████| 1/1 [00:00<00:00, 25.82it/s]\n",
      "100%|██████████| 1/1 [00:00<00:00, 34.80it/s]"
     ]
    },
    {
     "name": "stdout",
     "output_type": "stream",
     "text": [
      "Epoch 5, Loss: 0.24\n",
      "Epoch 6, Loss: 0.24\n",
      "Epoch 7, Loss: 0.24\n",
      "Epoch 8, Loss: 0.24\n",
      "Epoch 9, Loss: 0.24\n",
      "Epoch time average 0.05 s/epoch\n"
     ]
    },
    {
     "name": "stderr",
     "output_type": "stream",
     "text": [
      "\n"
     ]
    }
   ],
   "source": [
    "train_sgd(1, 1500, 10)"
   ]
  },
  {
   "cell_type": "code",
   "execution_count": 73,
   "id": "right-leadership",
   "metadata": {},
   "outputs": [
    {
     "name": "stderr",
     "output_type": "stream",
     "text": [
      "100%|██████████| 15/15 [00:00<00:00, 69.17it/s]\n",
      "100%|██████████| 15/15 [00:00<00:00, 79.57it/s]"
     ]
    },
    {
     "name": "stdout",
     "output_type": "stream",
     "text": [
      "Epoch 0, Loss: 0.27\n",
      "Epoch 1, Loss: 0.25\n",
      "Epoch time average 0.20 s/epoch\n"
     ]
    },
    {
     "name": "stderr",
     "output_type": "stream",
     "text": [
      "\n"
     ]
    }
   ],
   "source": [
    "train_sgd(0.4, 100, 2)"
   ]
  },
  {
   "cell_type": "code",
   "execution_count": null,
   "id": "skilled-bridge",
   "metadata": {},
   "outputs": [],
   "source": [
    "# really slow\n",
    "train_sgd(0.4, 1, 2)"
   ]
  }
 ],
 "metadata": {
  "kernelspec": {
   "display_name": "Python 3",
   "language": "python",
   "name": "python3"
  },
  "language_info": {
   "codemirror_mode": {
    "name": "ipython",
    "version": 3
   },
   "file_extension": ".py",
   "mimetype": "text/x-python",
   "name": "python",
   "nbconvert_exporter": "python",
   "pygments_lexer": "ipython3",
   "version": "3.8.8"
  }
 },
 "nbformat": 4,
 "nbformat_minor": 5
}
