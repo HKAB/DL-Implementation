{
 "cells": [
  {
   "cell_type": "code",
   "execution_count": 1,
   "id": "figured-display",
   "metadata": {},
   "outputs": [],
   "source": [
    "from d2l import torch as d2l\n",
    "import torch\n",
    "import torch.nn as nn\n",
    "import torch.nn.functional as F"
   ]
  },
  {
   "cell_type": "code",
   "execution_count": 73,
   "id": "needed-stone",
   "metadata": {},
   "outputs": [],
   "source": [
    "def batch_norm(x, gamma, beta, moving_mean, moving_var, eps, momentum):\n",
    "    if not (torch.is_grad_enabled()):\n",
    "        return (x - moving_mean)/torch.sqrt(moving_var + eps)\n",
    "    else:\n",
    "        if (len(x.shape) == 2):\n",
    "#             print('linear case')\n",
    "            mean = x.mean()\n",
    "            var = x.var()\n",
    "            moving_mean = momentum*moving_mean + (1 - momentum)*mean\n",
    "            moving_var = momentum*moving_var + (1 - momentum)*var\n",
    "            y = gamma*(x - mean)/(var + eps) + beta\n",
    "            return y, moving_mean, moving_var\n",
    "        else:\n",
    "#             print('conv case')\n",
    "            mean = x.mean(dim=(0, 2, 3), keepdim=True)\n",
    "            var = x.var(dim=(0, 2, 3), keepdim=True)\n",
    "#             print(mean.shape, var.shape, moving_mean.shape)\n",
    "            moving_mean = momentum*moving_mean + (1 - momentum)*mean\n",
    "            moving_var = momentum*moving_var + (1 - momentum)*var\n",
    "            y = gamma*(x - mean)/(var + eps) + beta\n",
    "            return y, moving_mean, moving_var"
   ]
  },
  {
   "cell_type": "code",
   "execution_count": 64,
   "id": "seeing-picture",
   "metadata": {},
   "outputs": [],
   "source": [
    "# exp = torch.rand((5, 10))\n",
    "# batch_norm(exp, 1, 1, 1, 1, 1, 1)\n",
    "# exp.shape in range(2, 4)\n",
    "# exp - exp.mean(dim=(2, 3)).reshape(5, 1, 1, 1)\n",
    "# exp.mean(dim=(0, 2, 3), keepdim=True).shape, exp.mean(dim=(0, 2, 3)).shape"
   ]
  },
  {
   "cell_type": "code",
   "execution_count": 66,
   "id": "employed-continuity",
   "metadata": {},
   "outputs": [],
   "source": [
    "class BatchNorm(nn.Module):\n",
    "    def __init__(self, num_features, num_dims):\n",
    "        super().__init__()\n",
    "        \n",
    "        if (num_dims == 2):\n",
    "            shape = (1, num_features)\n",
    "        else:\n",
    "            shape = (1, num_features, 1, 1)\n",
    "        \n",
    "        self.gamma = nn.Parameter(torch.ones(shape))\n",
    "        self.beta = nn.Parameter(torch.zeros(shape))\n",
    "        \n",
    "        self.moving_mean = torch.zeros(shape)\n",
    "        self.moving_var = torch.zeros(shape)\n",
    "    def forward(self, X):\n",
    "        y, self.moving_mean, self.moving_var = batch_norm(X, self.gamma, self.beta, \n",
    "                                                self.moving_mean, self.moving_var, 1e-5, 0.9)\n",
    "        return y"
   ]
  },
  {
   "cell_type": "code",
   "execution_count": 72,
   "id": "theoretical-antique",
   "metadata": {},
   "outputs": [],
   "source": [
    "class LeNet(nn.Module):\n",
    "    def __init__(self):\n",
    "        super().__init__()\n",
    "        self.features = nn.Sequential(\n",
    "            nn.Conv2d(1, 6, kernel_size=5, padding=2), BatchNorm(6, 4),\n",
    "            nn.AvgPool2d(kernel_size=2, stride=2),\n",
    "            nn.Conv2d(6, 16, kernel_size=5), BatchNorm(16, 4),\n",
    "            nn.AvgPool2d(kernel_size=2, stride=2),\n",
    "            nn.Flatten(),\n",
    "            nn.Linear(16*5*5, 100), BatchNorm(100, 2),\n",
    "            nn.Linear(100, 84), BatchNorm(84, 2),\n",
    "            nn.Linear(84, 10),\n",
    "        )\n",
    "    def forward(self, X):\n",
    "        X = X.view(-1, 1, 28, 28)\n",
    "        Y = self.features(X);\n",
    "        \n",
    "        return Y"
   ]
  },
  {
   "cell_type": "code",
   "execution_count": 74,
   "id": "binding-jersey",
   "metadata": {},
   "outputs": [
    {
     "name": "stdout",
     "output_type": "stream",
     "text": [
      "torch.Size([1, 6, 28, 28])\n",
      "torch.Size([1, 6, 28, 28])\n",
      "torch.Size([1, 6, 14, 14])\n",
      "torch.Size([1, 16, 10, 10])\n",
      "torch.Size([1, 16, 10, 10])\n",
      "torch.Size([1, 16, 5, 5])\n",
      "torch.Size([1, 400])\n",
      "torch.Size([1, 100])\n",
      "torch.Size([1, 100])\n",
      "torch.Size([1, 84])\n",
      "torch.Size([1, 84])\n",
      "torch.Size([1, 10])\n"
     ]
    }
   ],
   "source": [
    "X = torch.rand((1, 1, 28, 28))\n",
    "net = LeNet()\n",
    "for layer in net.features:\n",
    "    X = layer(X)\n",
    "    print(f'{X.shape}')"
   ]
  }
 ],
 "metadata": {
  "kernelspec": {
   "display_name": "Python 3",
   "language": "python",
   "name": "python3"
  },
  "language_info": {
   "codemirror_mode": {
    "name": "ipython",
    "version": 3
   },
   "file_extension": ".py",
   "mimetype": "text/x-python",
   "name": "python",
   "nbconvert_exporter": "python",
   "pygments_lexer": "ipython3",
   "version": "3.8.8"
  }
 },
 "nbformat": 4,
 "nbformat_minor": 5
}
