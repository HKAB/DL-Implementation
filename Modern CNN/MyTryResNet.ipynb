{
 "cells": [
  {
   "cell_type": "code",
   "execution_count": 1,
   "id": "composite-german",
   "metadata": {},
   "outputs": [],
   "source": [
    "from d2l import torch as d2l\n",
    "import torch\n",
    "import torch.nn as nn\n",
    "import torch.nn.functional as F"
   ]
  },
  {
   "cell_type": "code",
   "execution_count": 35,
   "id": "shared-design",
   "metadata": {},
   "outputs": [],
   "source": [
    "class Residual(nn.Module):\n",
    "    def __init__(self, num_inputs, num_outputs, use_1x1_conv=False, strides=1):\n",
    "        super().__init__()\n",
    "        \n",
    "        self.conv1 = nn.Conv2d(num_inputs, num_outputs, kernel_size=3, padding=1, stride=strides)\n",
    "        self.conv2 = nn.Conv2d(num_outputs, num_outputs, kernel_size=3, padding=1)\n",
    "        self.batchnorm1 = nn.BatchNorm2d(num_outputs)\n",
    "        self.batchnorm2 = nn.BatchNorm2d(num_outputs)\n",
    "        \n",
    "        if (use_1x1_conv):\n",
    "            self.conv3 = nn.Conv2d(num_inputs, num_outputs, kernel_size=1, stride=strides)\n",
    "        else:\n",
    "            self.conv3 = None\n",
    "        self.relu = nn.ReLU()\n",
    "    def forward(self, X):\n",
    "        y = self.batchnorm2(self.conv2(self.relu(self.batchnorm1(self.conv1(X)))))\n",
    "        if self.conv3:\n",
    "            X = self.conv3(X)\n",
    "        return F.relu(y + X)"
   ]
  },
  {
   "cell_type": "code",
   "execution_count": 36,
   "id": "typical-spouse",
   "metadata": {},
   "outputs": [
    {
     "data": {
      "text/plain": [
       "torch.Size([4, 3, 5, 5])"
      ]
     },
     "execution_count": 36,
     "metadata": {},
     "output_type": "execute_result"
    }
   ],
   "source": [
    "blk = Residual(3, 3, use_1x1_conv=True, strides=2)\n",
    "x = torch.rand((4, 3, 10, 10))\n",
    "blk(x).shape"
   ]
  },
  {
   "cell_type": "code",
   "execution_count": 34,
   "id": "driven-contest",
   "metadata": {},
   "outputs": [],
   "source": [
    "b1 = nn.Sequential(nn.Conv2d(1, 64, kernel_size=7, stride=2, padding=3),\n",
    "                   nn.BatchNorm2d(64), nn.ReLU(),\n",
    "                   nn.MaxPool2d(kernel_size=3, stride=2, padding=1))"
   ]
  },
  {
   "cell_type": "code",
   "execution_count": 40,
   "id": "frequent-drain",
   "metadata": {},
   "outputs": [],
   "source": [
    "def resnet_block(num_inputs, num_channels, num_residuals, first_block=False):\n",
    "    blks = []\n",
    "    for i in range(num_residuals):\n",
    "        if (i == 0) and not first_block:\n",
    "                blks.append(Residual(num_inputs, num_channels, use_1x1_conv=True))\n",
    "        else:\n",
    "            blks.append(Residual(num_channels, num_channels))\n",
    "    return blks"
   ]
  },
  {
   "cell_type": "code",
   "execution_count": 41,
   "id": "opponent-accident",
   "metadata": {},
   "outputs": [],
   "source": [
    "b2 = nn.Sequential(*resnet_block(64, 64, 2, first_block=True))\n",
    "b3 = nn.Sequential(*resnet_block(64, 128, 2))\n",
    "b4 = nn.Sequential(*resnet_block(128, 256, 2))\n",
    "b5 = nn.Sequential(*resnet_block(256, 512, 2))"
   ]
  },
  {
   "cell_type": "code",
   "execution_count": 45,
   "id": "dramatic-clark",
   "metadata": {},
   "outputs": [],
   "source": [
    "net = nn.Sequential(\n",
    "    b1, b2, b3, b4, b5, nn.AdaptiveAvgPool2d((1, 1)), nn.Flatten(), nn.Linear(512, 10)\n",
    ")"
   ]
  },
  {
   "cell_type": "code",
   "execution_count": 46,
   "id": "double-preference",
   "metadata": {},
   "outputs": [
    {
     "name": "stdout",
     "output_type": "stream",
     "text": [
      "Sequential, torch.Size([1, 64, 56, 56])\n",
      "Sequential, torch.Size([1, 64, 56, 56])\n",
      "Sequential, torch.Size([1, 128, 56, 56])\n",
      "Sequential, torch.Size([1, 256, 56, 56])\n",
      "Sequential, torch.Size([1, 512, 56, 56])\n",
      "AdaptiveAvgPool2d, torch.Size([1, 512, 1, 1])\n",
      "Flatten, torch.Size([1, 512])\n",
      "Linear, torch.Size([1, 10])\n"
     ]
    }
   ],
   "source": [
    "X = torch.rand(1, 1, 224, 224)\n",
    "for layer in net:\n",
    "    X = layer(X)\n",
    "    print(f'{layer.__class__.__name__}, {X.shape}')"
   ]
  }
 ],
 "metadata": {
  "kernelspec": {
   "display_name": "Python 3",
   "language": "python",
   "name": "python3"
  },
  "language_info": {
   "codemirror_mode": {
    "name": "ipython",
    "version": 3
   },
   "file_extension": ".py",
   "mimetype": "text/x-python",
   "name": "python",
   "nbconvert_exporter": "python",
   "pygments_lexer": "ipython3",
   "version": "3.8.8"
  }
 },
 "nbformat": 4,
 "nbformat_minor": 5
}
