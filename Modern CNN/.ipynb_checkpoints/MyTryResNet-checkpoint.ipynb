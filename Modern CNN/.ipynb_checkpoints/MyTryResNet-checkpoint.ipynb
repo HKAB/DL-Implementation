{
 "cells": [
  {
   "cell_type": "code",
   "execution_count": 1,
   "id": "median-trainer",
   "metadata": {},
   "outputs": [],
   "source": [
    "from d2l import torch as d2l\n",
    "import torch\n",
    "import torch.nn as nn\n",
    "import torch.nn.functional as F"
   ]
  },
  {
   "cell_type": "code",
   "execution_count": 35,
   "id": "centered-colon",
   "metadata": {},
   "outputs": [],
   "source": [
    "class Residual(nn.Module):\n",
    "    def __init__(self, num_inputs, num_outputs, use_1x1_conv=False, strides=1):\n",
    "        super().__init__()\n",
    "        \n",
    "        self.conv1 = nn.Conv2d(num_inputs, num_outputs, kernel_size=3, padding=1, stride=strides)\n",
    "        self.conv2 = nn.Conv2d(num_outputs, num_outputs, kernel_size=3, padding=1)\n",
    "        self.batchnorm1 = nn.BatchNorm2d(num_outputs)\n",
    "        self.batchnorm2 = nn.BatchNorm2d(num_outputs)\n",
    "        \n",
    "        if (use_1x1_conv):\n",
    "            self.conv3 = nn.Conv2d(num_inputs, num_outputs, kernel_size=1, stride=strides)\n",
    "        else:\n",
    "            self.conv3 = None\n",
    "        self.relu = nn.ReLU()\n",
    "    def forward(self, X):\n",
    "        y = self.batchnorm2(self.conv2(self.relu(self.batchnorm1(self.conv1(X)))))\n",
    "        if self.conv3:\n",
    "            X = self.conv3(X)\n",
    "        return F.relu(y + X)"
   ]
  },
  {
   "cell_type": "code",
   "execution_count": 36,
   "id": "purple-canada",
   "metadata": {},
   "outputs": [
    {
     "data": {
      "text/plain": [
       "torch.Size([4, 3, 5, 5])"
      ]
     },
     "execution_count": 36,
     "metadata": {},
     "output_type": "execute_result"
    }
   ],
   "source": [
    "blk = Residual(3, 3, use_1x1_conv=True, strides=2)\n",
    "x = torch.rand((4, 3, 10, 10))\n",
    "blk(x).shape"
   ]
  },
  {
   "cell_type": "code",
   "execution_count": 34,
   "id": "framed-dating",
   "metadata": {},
   "outputs": [],
   "source": [
    "b1 = nn.Sequential(nn.Conv2d(1, 64, kernel_size=7, stride=2, padding=3),\n",
    "                   nn.BatchNorm2d(64), nn.ReLU(),\n",
    "                   nn.MaxPool2d(kernel_size=3, stride=2, padding=1))"
   ]
  },
  {
   "cell_type": "code",
   "execution_count": null,
   "id": "virgin-roots",
   "metadata": {},
   "outputs": [],
   "source": [
    "def resnet_block(num_inputs, num_channels, num_residuals, first_block=False):\n",
    "    blks = []\n",
    "    for i in range(num_residuals):\n",
    "        "
   ]
  }
 ],
 "metadata": {
  "kernelspec": {
   "display_name": "Python 3",
   "language": "python",
   "name": "python3"
  },
  "language_info": {
   "codemirror_mode": {
    "name": "ipython",
    "version": 3
   },
   "file_extension": ".py",
   "mimetype": "text/x-python",
   "name": "python",
   "nbconvert_exporter": "python",
   "pygments_lexer": "ipython3",
   "version": "3.8.8"
  }
 },
 "nbformat": 4,
 "nbformat_minor": 5
}
