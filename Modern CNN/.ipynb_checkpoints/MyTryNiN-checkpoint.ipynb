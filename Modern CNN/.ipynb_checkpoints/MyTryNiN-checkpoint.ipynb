{
 "cells": [
  {
   "cell_type": "code",
   "execution_count": 1,
   "id": "appointed-aberdeen",
   "metadata": {},
   "outputs": [],
   "source": [
    "from d2l import torch as d2l\n",
    "import torch\n",
    "import torch.nn as nn"
   ]
  },
  {
   "cell_type": "code",
   "execution_count": 3,
   "id": "invalid-deputy",
   "metadata": {},
   "outputs": [],
   "source": [
    "def nin_block(num_inputs, num_outputs, kernel_size, stride, padding):\n",
    "    return nn.Sequential(\n",
    "        nn.Conv2d(num_inputs, num_outputs, kernel_size=kernel_size, stride=stride, padding=padding), \n",
    "        nn.ReLU(),\n",
    "        nn.Conv2d(num_outputs, num_outputs, kernel_size=1), \n",
    "        nn.ReLU(),\n",
    "        nn.Conv2d(num_outputs, num_outputs, kernel_size=1),\n",
    "        nn.ReLU(),\n",
    "    )"
   ]
  },
  {
   "cell_type": "code",
   "execution_count": 5,
   "id": "outdoor-yugoslavia",
   "metadata": {},
   "outputs": [],
   "source": [
    "def nin():\n",
    "    return nn.Sequential(\n",
    "        nin_block(1, 96, 11, 4, 0),\n",
    "        nn.MaxPool2d(kernel_size=3, stride=2),\n",
    "        nin_block(96, 256, 5, 1, 1),\n",
    "        nn.MaxPool2d(kernel_size=3, stride=2),\n",
    "        nin_block(256, 384, 3, 1, 1),\n",
    "        nn.MaxPool2d(kernel_size=3, stride=2),\n",
    "        nin_block(384, 10, 3, 1, 1),\n",
    "        nn.AdaptiveAvgPool2d((1, 1)),\n",
    "        nn.Flatten()\n",
    "    )"
   ]
  },
  {
   "cell_type": "code",
   "execution_count": 6,
   "id": "creative-philippines",
   "metadata": {},
   "outputs": [
    {
     "name": "stdout",
     "output_type": "stream",
     "text": [
      "Sequential output: torch.Size([1, 96, 54, 54])\n",
      "MaxPool2d output: torch.Size([1, 96, 26, 26])\n",
      "Sequential output: torch.Size([1, 256, 24, 24])\n",
      "MaxPool2d output: torch.Size([1, 256, 11, 11])\n",
      "Sequential output: torch.Size([1, 384, 11, 11])\n",
      "MaxPool2d output: torch.Size([1, 384, 5, 5])\n",
      "Sequential output: torch.Size([1, 10, 5, 5])\n",
      "AdaptiveAvgPool2d output: torch.Size([1, 10, 1, 1])\n",
      "Flatten output: torch.Size([1, 10])\n"
     ]
    }
   ],
   "source": [
    "X = torch.randn(1, 1, 224, 224)\n",
    "for layer in nin():\n",
    "    X = layer(X)\n",
    "    print(layer.__class__.__name__, \"output:\", X.shape)"
   ]
  }
 ],
 "metadata": {
  "kernelspec": {
   "display_name": "Python 3",
   "language": "python",
   "name": "python3"
  },
  "language_info": {
   "codemirror_mode": {
    "name": "ipython",
    "version": 3
   },
   "file_extension": ".py",
   "mimetype": "text/x-python",
   "name": "python",
   "nbconvert_exporter": "python",
   "pygments_lexer": "ipython3",
   "version": "3.8.8"
  }
 },
 "nbformat": 4,
 "nbformat_minor": 5
}
