{
 "cells": [
  {
   "cell_type": "code",
   "execution_count": 3,
   "id": "continent-platform",
   "metadata": {},
   "outputs": [],
   "source": [
    "import torch\n",
    "import torch.nn as nn\n",
    "from d2l import torch as d2l"
   ]
  },
  {
   "cell_type": "code",
   "execution_count": 12,
   "id": "developmental-football",
   "metadata": {},
   "outputs": [],
   "source": [
    "def corr2d(X, K):\n",
    "    h = X.shape[0] - K.shape[0] + 1\n",
    "    w = X.shape[1] - K.shape[1] + 1\n",
    "    \n",
    "    r = torch.zeros(h, w)\n",
    "    \n",
    "    for i in range(h):\n",
    "        for j in range(w):\n",
    "            r[i, j] = (X[i:i + K.shape[0], j:j + K.shape[1]]*K).sum()\n",
    "    return r"
   ]
  },
  {
   "cell_type": "code",
   "execution_count": 13,
   "id": "silent-basin",
   "metadata": {},
   "outputs": [
    {
     "data": {
      "text/plain": [
       "tensor([[19., 25.],\n",
       "        [37., 43.]])"
      ]
     },
     "execution_count": 13,
     "metadata": {},
     "output_type": "execute_result"
    }
   ],
   "source": [
    "corr2d(torch.tensor([[0, 1, 2], [3, 4, 5], [6, 7, 8]]), torch.tensor([[0, 1], [2, 3]]))"
   ]
  }
 ],
 "metadata": {
  "kernelspec": {
   "display_name": "Python 3",
   "language": "python",
   "name": "python3"
  },
  "language_info": {
   "codemirror_mode": {
    "name": "ipython",
    "version": 3
   },
   "file_extension": ".py",
   "mimetype": "text/x-python",
   "name": "python",
   "nbconvert_exporter": "python",
   "pygments_lexer": "ipython3",
   "version": "3.8.8"
  }
 },
 "nbformat": 4,
 "nbformat_minor": 5
}
