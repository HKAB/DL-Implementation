{
 "cells": [
  {
   "cell_type": "code",
   "execution_count": 1,
   "id": "opponent-amber",
   "metadata": {},
   "outputs": [],
   "source": [
    "import torch\n",
    "import torch.nn as nn\n",
    "from d2l import torch as d2l"
   ]
  },
  {
   "cell_type": "code",
   "execution_count": 2,
   "id": "decent-aruba",
   "metadata": {},
   "outputs": [],
   "source": [
    "class LeNet(nn.Module):\n",
    "    def __init__(self):\n",
    "        super().__init__()\n",
    "        self.features = nn.Sequential(\n",
    "            nn.Conv2d(1, 6, kernel_size=5, padding=2),\n",
    "            nn.AvgPool2d(kernel_size=2, stride=2),\n",
    "            nn.Conv2d(6, 16, kernel_size=5),\n",
    "            nn.AvgPool2d(kernel_size=2, stride=2),\n",
    "            nn.Flatten(),\n",
    "            nn.Linear(16*5*5, 100),\n",
    "            nn.Linear(100, 84),\n",
    "            nn.Linear(84, 10),\n",
    "        )\n",
    "    def forward(self, X):\n",
    "        X = X.view(-1, 1, 28, 28)\n",
    "        Y = self.features(X);\n",
    "        \n",
    "        return Y"
   ]
  },
  {
   "cell_type": "code",
   "execution_count": 11,
   "id": "opening-proportion",
   "metadata": {},
   "outputs": [
    {
     "name": "stdout",
     "output_type": "stream",
     "text": [
      "torch.Size([1, 6, 28, 28])\n",
      "torch.Size([1, 6, 14, 14])\n",
      "torch.Size([1, 16, 10, 10])\n",
      "torch.Size([1, 16, 5, 5])\n",
      "torch.Size([1, 400])\n",
      "torch.Size([1, 100])\n",
      "torch.Size([1, 84])\n",
      "torch.Size([1, 10])\n"
     ]
    }
   ],
   "source": [
    "X = torch.rand((1, 1, 28, 28))\n",
    "net = LeNet()\n",
    "for layer in net.features:\n",
    "    X = layer(X)\n",
    "    print(f'{X.shape}')"
   ]
  }
 ],
 "metadata": {
  "kernelspec": {
   "display_name": "Python 3",
   "language": "python",
   "name": "python3"
  },
  "language_info": {
   "codemirror_mode": {
    "name": "ipython",
    "version": 3
   },
   "file_extension": ".py",
   "mimetype": "text/x-python",
   "name": "python",
   "nbconvert_exporter": "python",
   "pygments_lexer": "ipython3",
   "version": "3.8.8"
  }
 },
 "nbformat": 4,
 "nbformat_minor": 5
}
