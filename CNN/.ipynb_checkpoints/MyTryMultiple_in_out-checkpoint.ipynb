{
 "cells": [
  {
   "cell_type": "code",
   "execution_count": 1,
   "id": "general-azerbaijan",
   "metadata": {},
   "outputs": [],
   "source": [
    "from d2l import torch as d2l\n",
    "import torch\n",
    "import torch.nn as nn"
   ]
  },
  {
   "cell_type": "code",
   "execution_count": 2,
   "id": "going-method",
   "metadata": {},
   "outputs": [],
   "source": [
    "def corr2d(X, K):\n",
    "    h = X.shape[0] - K.shape[0] + 1\n",
    "    w = X.shape[1] - K.shape[1] + 1\n",
    "    \n",
    "    r = torch.zeros(h, w)\n",
    "    \n",
    "    for i in range(h):\n",
    "        for j in range(w):\n",
    "            r[i, j] = (X[i:i + K.shape[0], j:j + K.shape[1]]*K).sum()\n",
    "    return r"
   ]
  },
  {
   "cell_type": "code",
   "execution_count": 3,
   "id": "drawn-ambassador",
   "metadata": {},
   "outputs": [
    {
     "data": {
      "text/plain": [
       "tensor([[ 56.,  72.],\n",
       "        [104., 120.]])"
      ]
     },
     "execution_count": 3,
     "metadata": {},
     "output_type": "execute_result"
    }
   ],
   "source": [
    "def corr2d_multi_in(Xs, Ks):\n",
    "    return sum(corr2d(X, k) for X, k in zip(Xs, Ks))\n",
    "Xs = [torch.tensor([[0, 1, 2], [3, 4, 5], [6, 7, 8]]), torch.tensor([[1, 2, 3], [4, 5, 6], [7, 8, 9]])]\n",
    "Ks = [torch.tensor([[0, 1], [2, 3]]), torch.tensor([[1, 2], [3, 4]])]\n",
    "corr2d_multi_in(Xs, Ks)"
   ]
  },
  {
   "cell_type": "code",
   "execution_count": 16,
   "id": "material-raleigh",
   "metadata": {},
   "outputs": [
    {
     "data": {
      "text/plain": [
       "tensor([[[ 56.,  72.],\n",
       "         [104., 120.]],\n",
       "\n",
       "        [[ 76., 100.],\n",
       "         [148., 172.]],\n",
       "\n",
       "        [[ 96., 128.],\n",
       "         [192., 224.]]])"
      ]
     },
     "execution_count": 16,
     "metadata": {},
     "output_type": "execute_result"
    }
   ],
   "source": [
    "def corr2d_multi_in_out(Xs, Ks):\n",
    "    return torch.stack([corr2d_multi_in(Xs, K) for K in Ks], 0)\n",
    "K = torch.tensor([[[0, 1], [2, 3]], [[1, 2], [3, 4]]])\n",
    "Ks = torch.stack((K, K + 1, K + 2), 0)\n",
    "corr2d_multi_in_out(Xs, Ks)"
   ]
  },
  {
   "cell_type": "code",
   "execution_count": 18,
   "id": "efficient-television",
   "metadata": {},
   "outputs": [
    {
     "data": {
      "text/plain": [
       "tensor([[[-0.1691, -0.5782,  0.6436],\n",
       "         [ 0.4650,  1.8764, -0.4876],\n",
       "         [ 1.0876,  0.2725, -0.5169]],\n",
       "\n",
       "        [[-0.0073, -0.4264,  0.1918],\n",
       "         [ 0.2002,  1.0314, -0.3691],\n",
       "         [ 0.6581,  0.0816, -0.3182]]])"
      ]
     },
     "execution_count": 18,
     "metadata": {},
     "output_type": "execute_result"
    }
   ],
   "source": [
    "def corr2d_multi_in_out_1x1(X, K):\n",
    "    # kernel size: co x ci x h x w\n",
    "    # X: ci x img_h x img_w\n",
    "    # K: co x ci x h x w\n",
    "    ci, img_w, img_h = X.shape\n",
    "    co, ci, k_w, k_h = K.shape\n",
    "    return torch.matmul(K.reshape((co, ci)), X.reshape((ci, img_w*img_h))).reshape((co, img_h, img_w))\n",
    "X = torch.normal(0, 1, (3, 3, 3))\n",
    "K = torch.normal(0, 1, (2, 3, 1, 1))\n",
    "\n",
    "corr2d_multi_in_out_1x1(X, K)"
   ]
  },
  {
   "cell_type": "code",
   "execution_count": 19,
   "id": "advance-parcel",
   "metadata": {},
   "outputs": [
    {
     "data": {
      "text/plain": [
       "tensor([[[-0.1691, -0.5782,  0.6436],\n",
       "         [ 0.4650,  1.8764, -0.4876],\n",
       "         [ 1.0876,  0.2725, -0.5169]],\n",
       "\n",
       "        [[-0.0073, -0.4264,  0.1918],\n",
       "         [ 0.2002,  1.0314, -0.3691],\n",
       "         [ 0.6581,  0.0816, -0.3182]]])"
      ]
     },
     "execution_count": 19,
     "metadata": {},
     "output_type": "execute_result"
    }
   ],
   "source": [
    "corr2d_multi_in_out(X, K)"
   ]
  }
 ],
 "metadata": {
  "kernelspec": {
   "display_name": "Python 3",
   "language": "python",
   "name": "python3"
  },
  "language_info": {
   "codemirror_mode": {
    "name": "ipython",
    "version": 3
   },
   "file_extension": ".py",
   "mimetype": "text/x-python",
   "name": "python",
   "nbconvert_exporter": "python",
   "pygments_lexer": "ipython3",
   "version": "3.8.8"
  }
 },
 "nbformat": 4,
 "nbformat_minor": 5
}
